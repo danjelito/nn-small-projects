{
 "cells": [
  {
   "cell_type": "code",
   "execution_count": 1,
   "metadata": {},
   "outputs": [
    {
     "name": "stderr",
     "output_type": "stream",
     "text": [
      "2023-07-14 21:28:50.266711: I tensorflow/core/platform/cpu_feature_guard.cc:193] This TensorFlow binary is optimized with oneAPI Deep Neural Network Library (oneDNN) to use the following CPU instructions in performance-critical operations:  SSE4.1 SSE4.2 AVX AVX2 FMA\n",
      "To enable them in other operations, rebuild TensorFlow with the appropriate compiler flags.\n"
     ]
    }
   ],
   "source": [
    "import numpy as np\n",
    "from sklearn.preprocessing import OneHotEncoder\n",
    "\n",
    "from tensorflow import keras\n",
    "import tensorflow as tf\n",
    "tf.config.run_functions_eagerly(True)\n",
    "\n",
    "from keras.layers import Conv2D, MaxPooling2D, Flatten, Dense, Dropout"
   ]
  },
  {
   "cell_type": "code",
   "execution_count": 2,
   "metadata": {},
   "outputs": [],
   "source": [
    "(X_train_full, y_train_full), (X_test, y_test) = keras.datasets.mnist.load_data()\n",
    "\n",
    "# rescale the images\n",
    "X_train_full= X_train_full / 255\n",
    "X_test= X_test / 255\n",
    "\n",
    "# split to train val test\n",
    "n_val= 10_000\n",
    "X_val= X_train_full[:n_val].copy()\n",
    "y_val= y_train_full[:n_val].copy()\n",
    "X_train= X_train_full[n_val:].copy()\n",
    "y_train= y_train_full[n_val:].copy()\n",
    "\n",
    "# encode the label\n",
    "encoder= OneHotEncoder(sparse_output= False, drop= None, \n",
    "                       handle_unknown= 'ignore')\n",
    "\n",
    "encoder.fit(y_train.reshape(-1, 1))\n",
    "y_train= encoder.transform(y_train.reshape(-1, 1))\n",
    "y_val= encoder.transform(y_val.reshape(-1, 1))\n",
    "y_test= encoder.transform(y_test.reshape(-1, 1))"
   ]
  },
  {
   "cell_type": "code",
   "execution_count": 3,
   "metadata": {},
   "outputs": [
    {
     "data": {
      "text/plain": [
       "array([0., 0., 0., 1., 0., 0., 0., 0., 0., 0.])"
      ]
     },
     "execution_count": 3,
     "metadata": {},
     "output_type": "execute_result"
    }
   ],
   "source": [
    "y_train[0]"
   ]
  },
  {
   "cell_type": "code",
   "execution_count": 4,
   "metadata": {},
   "outputs": [
    {
     "name": "stdout",
     "output_type": "stream",
     "text": [
      "(50000, 28, 28) (50000, 10)\n",
      "(10000, 28, 28) (10000, 10)\n",
      "(10000, 28, 28) (10000, 10)\n"
     ]
    }
   ],
   "source": [
    "print(X_train.shape, y_train.shape)\n",
    "print(X_val.shape, y_val.shape)\n",
    "print(X_test.shape, y_test.shape)"
   ]
  },
  {
   "cell_type": "code",
   "execution_count": 5,
   "metadata": {},
   "outputs": [
    {
     "data": {
      "text/plain": [
       "array([0, 1, 2, 3, 4, 5, 6, 7, 8, 9], dtype=uint8)"
      ]
     },
     "execution_count": 5,
     "metadata": {},
     "output_type": "execute_result"
    }
   ],
   "source": [
    "np.unique(y_train_full)"
   ]
  },
  {
   "cell_type": "markdown",
   "metadata": {},
   "source": [
    "# With TF"
   ]
  },
  {
   "cell_type": "code",
   "execution_count": 6,
   "metadata": {},
   "outputs": [
    {
     "name": "stdout",
     "output_type": "stream",
     "text": [
      "Model: \"sequential\"\n",
      "_________________________________________________________________\n",
      " Layer (type)                Output Shape              Param #   \n",
      "=================================================================\n",
      " conv2d (Conv2D)             (None, 28, 28, 4)         40        \n",
      "                                                                 \n",
      " max_pooling2d (MaxPooling2D  (None, 14, 14, 4)        0         \n",
      " )                                                               \n",
      "                                                                 \n",
      " conv2d_1 (Conv2D)           (None, 14, 14, 8)         296       \n",
      "                                                                 \n",
      " max_pooling2d_1 (MaxPooling  (None, 7, 7, 8)          0         \n",
      " 2D)                                                             \n",
      "                                                                 \n",
      " flatten (Flatten)           (None, 392)               0         \n",
      "                                                                 \n",
      " dropout (Dropout)           (None, 392)               0         \n",
      "                                                                 \n",
      " dense (Dense)               (None, 64)                25152     \n",
      "                                                                 \n",
      " dropout_1 (Dropout)         (None, 64)                0         \n",
      "                                                                 \n",
      " dense_1 (Dense)             (None, 10)                650       \n",
      "                                                                 \n",
      "=================================================================\n",
      "Total params: 26,138\n",
      "Trainable params: 26,138\n",
      "Non-trainable params: 0\n",
      "_________________________________________________________________\n"
     ]
    },
    {
     "name": "stderr",
     "output_type": "stream",
     "text": [
      "2023-07-14 21:28:52.642199: I tensorflow/core/platform/cpu_feature_guard.cc:193] This TensorFlow binary is optimized with oneAPI Deep Neural Network Library (oneDNN) to use the following CPU instructions in performance-critical operations:  SSE4.1 SSE4.2 AVX AVX2 FMA\n",
      "To enable them in other operations, rebuild TensorFlow with the appropriate compiler flags.\n",
      "2023-07-14 21:28:52.645779: I tensorflow/core/common_runtime/process_util.cc:146] Creating new thread pool with default inter op setting: 2. Tune using inter_op_parallelism_threads for best performance.\n"
     ]
    }
   ],
   "source": [
    "model= keras.Sequential()\n",
    "\n",
    "# conv1\n",
    "model.add(Conv2D(filters= 4, \n",
    "                 kernel_size= (3, 3),\n",
    "                 strides= 1, \n",
    "                 padding= 'same', \n",
    "                 activation= 'relu', \n",
    "                 # only need to specify input shape here\n",
    "                 input_shape= (28, 28, 1))) \n",
    "model.add(MaxPooling2D(pool_size= (2, 2)))\n",
    "\n",
    "# conv 2\n",
    "model.add(Conv2D(filters= 8, \n",
    "                 kernel_size= (3, 3),\n",
    "                 strides= 1, \n",
    "                 padding= 'same', \n",
    "                 activation= 'relu',))\n",
    "model.add(MaxPooling2D(pool_size= (2, 2)))\n",
    "\n",
    "# fully connected layers\n",
    "model.add(Flatten())\n",
    "model.add(Dropout(rate= 0.3))\n",
    "model.add(Dense(units= 64, activation='relu'))\n",
    "model.add(Dropout(rate= 0.5))\n",
    "model.add(Dense(units= 10, activation='softmax'))\n",
    "\n",
    "model.summary()"
   ]
  },
  {
   "cell_type": "code",
   "execution_count": 7,
   "metadata": {},
   "outputs": [],
   "source": [
    "model.compile(loss='categorical_crossentropy', \n",
    "              optimizer= 'rmsprop', \n",
    "              metrics= ['accuracy'])"
   ]
  },
  {
   "cell_type": "code",
   "execution_count": 8,
   "metadata": {},
   "outputs": [
    {
     "name": "stdout",
     "output_type": "stream",
     "text": [
      "Epoch 1/10\n"
     ]
    },
    {
     "name": "stderr",
     "output_type": "stream",
     "text": [
      "/home/anj/miniconda3/envs/deep-learning/lib/python3.10/site-packages/tensorflow/python/data/ops/structured_function.py:256: UserWarning: Even though the `tf.config.experimental_run_functions_eagerly` option is set, this option does not apply to tf.data functions. To force eager execution of tf.data functions, please use `tf.data.experimental.enable_debug_mode()`.\n",
      "  warnings.warn(\n"
     ]
    },
    {
     "name": "stdout",
     "output_type": "stream",
     "text": [
      "1563/1563 [==============================] - 35s 23ms/step - loss: 0.6024 - accuracy: 0.8042 - val_loss: 0.1499 - val_accuracy: 0.9585\n",
      "Epoch 2/10\n",
      "1563/1563 [==============================] - 35s 23ms/step - loss: 0.2709 - accuracy: 0.9206 - val_loss: 0.1149 - val_accuracy: 0.9673\n",
      "Epoch 3/10\n",
      "1563/1563 [==============================] - 35s 22ms/step - loss: 0.2234 - accuracy: 0.9341 - val_loss: 0.1014 - val_accuracy: 0.9717\n",
      "Epoch 4/10\n",
      "1563/1563 [==============================] - 34s 22ms/step - loss: 0.2018 - accuracy: 0.9408 - val_loss: 0.0890 - val_accuracy: 0.9746\n",
      "Epoch 5/10\n",
      "1563/1563 [==============================] - 34s 22ms/step - loss: 0.1967 - accuracy: 0.9426 - val_loss: 0.0868 - val_accuracy: 0.9753\n",
      "Epoch 6/10\n",
      "1563/1563 [==============================] - 34s 22ms/step - loss: 0.1874 - accuracy: 0.9457 - val_loss: 0.0917 - val_accuracy: 0.9743\n",
      "Epoch 7/10\n",
      "1563/1563 [==============================] - 35s 22ms/step - loss: 0.1824 - accuracy: 0.9474 - val_loss: 0.0871 - val_accuracy: 0.9745\n",
      "Epoch 8/10\n",
      "1563/1563 [==============================] - 35s 23ms/step - loss: 0.1764 - accuracy: 0.9484 - val_loss: 0.0843 - val_accuracy: 0.9762\n",
      "Epoch 9/10\n",
      "1563/1563 [==============================] - 35s 22ms/step - loss: 0.1744 - accuracy: 0.9494 - val_loss: 0.0843 - val_accuracy: 0.9764\n",
      "Epoch 10/10\n",
      "1563/1563 [==============================] - 39s 25ms/step - loss: 0.1749 - accuracy: 0.9504 - val_loss: 0.0853 - val_accuracy: 0.9757\n"
     ]
    }
   ],
   "source": [
    "hist= model.fit(x= X_train, \n",
    "                y= y_train,\n",
    "                batch_size= 32, \n",
    "                epochs= 10, \n",
    "                validation_data= (X_val, y_val),\n",
    "                verbose= 1, \n",
    "                shuffle= True)"
   ]
  },
  {
   "cell_type": "code",
   "execution_count": 9,
   "metadata": {},
   "outputs": [
    {
     "data": {
      "text/plain": [
       "dict_keys(['loss', 'accuracy', 'val_loss', 'val_accuracy'])"
      ]
     },
     "execution_count": 9,
     "metadata": {},
     "output_type": "execute_result"
    }
   ],
   "source": [
    "hist.history.keys()"
   ]
  },
  {
   "cell_type": "code",
   "execution_count": 10,
   "metadata": {},
   "outputs": [
    {
     "data": {
      "image/png": "[encoded data removed]",
      "text/plain": [
       "<Figure size 1000x400 with 2 Axes>"
      ]
     },
     "metadata": {},
     "output_type": "display_data"
    }
   ],
   "source": [
    "train_acc= hist.history['accuracy']\n",
    "val_acc= hist.history['val_accuracy']\n",
    "train_loss= hist.history['loss']\n",
    "val_loss= hist.history['val_loss']\n",
    "epochs= list(range(1, len(train_acc) + 1))\n",
    "\n",
    "import matplotlib.pyplot as plt\n",
    "\n",
    "fig, axs= plt.subplots(ncols= 2, figsize=(10, 4))\n",
    "axs[0].plot(epochs, train_acc)\n",
    "axs[0].plot(epochs, val_acc)\n",
    "\n",
    "axs[1].plot(epochs, train_loss)\n",
    "axs[1].plot(epochs, val_loss)\n",
    "\n",
    "plt.suptitle('TF Conv Model', fontweight= 'bold')\n",
    "\n",
    "plt.show()"
   ]
  },
  {
   "cell_type": "markdown",
   "metadata": {},
   "source": [
    "# With Pytorch"
   ]
  },
  {
   "cell_type": "code",
   "execution_count": 11,
   "metadata": {},
   "outputs": [],
   "source": [
    "import torch\n",
    "from torch import nn\n",
    "from torch.utils.data import DataLoader, TensorDataset"
   ]
  },
  {
   "cell_type": "code",
   "execution_count": 12,
   "metadata": {},
   "outputs": [
    {
     "data": {
      "text/plain": [
       "array([3, 8, 7, ..., 5, 6, 8])"
      ]
     },
     "execution_count": 12,
     "metadata": {},
     "output_type": "execute_result"
    }
   ],
   "source": [
    "np.argmax(y_train, axis= 1)"
   ]
  },
  {
   "cell_type": "code",
   "execution_count": 13,
   "metadata": {},
   "outputs": [],
   "source": [
    "# create dataset\n",
    "\n",
    "# add in dimension as channel\n",
    "X_train_tensor= torch.tensor(X_train.reshape(-1, 1, 28, 28)).float()\n",
    "X_val_tensor= torch.tensor(X_val.reshape(-1, 1, 28, 28)).float()\n",
    "X_test_tensor= torch.tensor(X_test.reshape(-1, 1, 28, 28)).float()\n",
    "\n",
    "y_train_tensor= torch.tensor(np.argmax(y_train, axis= 1))\n",
    "y_val_tensor= torch.tensor(np.argmax(y_val, axis= 1))\n",
    "y_test_tensor= torch.tensor(np.argmax(y_test, axis= 1))\n",
    "\n",
    "train_ds= TensorDataset(X_train_tensor, y_train_tensor)\n",
    "val_ds= TensorDataset(X_val_tensor, y_val_tensor)\n",
    "\n",
    "train_dl= DataLoader(train_ds, batch_size= 128)\n",
    "val_dl= DataLoader(val_ds, batch_size= 128)"
   ]
  },
  {
   "cell_type": "code",
   "execution_count": 14,
   "metadata": {},
   "outputs": [],
   "source": [
    "# create model\n",
    "\n",
    "class CNN(nn.Module):\n",
    "\n",
    "    def __init__(self,):\n",
    "        super().__init__()\n",
    "        self.conv_layers= nn.Sequential(\n",
    "            nn.Conv2d(in_channels= 1, # 1 for grayscale image\n",
    "                      out_channels= 4, \n",
    "                      kernel_size= 5,\n",
    "                      stride= 1, \n",
    "                      padding= 2), \n",
    "            nn.ReLU(), \n",
    "            nn.MaxPool2d(kernel_size= 2),\n",
    "            nn.Conv2d(in_channels= 4, # output from the last layer\n",
    "                      out_channels= 8, \n",
    "                      kernel_size= 5,\n",
    "                      stride= 1, \n",
    "                      padding= 2),\n",
    "            nn.ReLU(),\n",
    "            nn.MaxPool2d(kernel_size= 2)\n",
    "        )\n",
    "        self.fc_layers= nn.Sequential(\n",
    "            nn.Flatten(), \n",
    "            nn.Linear(in_features= 392, # output from flatten\n",
    "                      out_features= 32),\n",
    "            nn.ReLU(),\n",
    "            nn.Dropout(p= 0.3),\n",
    "            nn.Linear(in_features= 32, \n",
    "                      out_features= 10),\n",
    "        )\n",
    "\n",
    "    def forward(self, x):\n",
    "        x = self.conv_layers(x)\n",
    "        x = self.fc_layers(x)\n",
    "        return x"
   ]
  },
  {
   "cell_type": "code",
   "execution_count": 15,
   "metadata": {},
   "outputs": [
    {
     "data": {
      "text/plain": [
       "torch.Size([128, 10])"
      ]
     },
     "execution_count": 15,
     "metadata": {},
     "output_type": "execute_result"
    }
   ],
   "source": [
    "x= torch.ones(128, 1, 28, 28)\n",
    "model= CNN()\n",
    "model(x).shape"
   ]
  },
  {
   "cell_type": "code",
   "execution_count": 16,
   "metadata": {},
   "outputs": [
    {
     "name": "stdout",
     "output_type": "stream",
     "text": [
      "epoch 0 : acc =  0.7404 - val acc =  0.9225 - loss =  0.0063 - val loss =  0.0019\n",
      "epoch 1 : acc =  0.9066 - val acc =  0.9553 - loss =  0.0024 - val loss =  0.0012\n",
      "epoch 2 : acc =  0.9295 - val acc =  0.9626 - loss =  0.0018 - val loss =  0.0010\n",
      "epoch 3 : acc =  0.9381 - val acc =  0.9680 - loss =  0.0016 - val loss =  0.0009\n",
      "epoch 4 : acc =  0.9455 - val acc =  0.9716 - loss =  0.0014 - val loss =  0.0008\n",
      "epoch 5 : acc =  0.9480 - val acc =  0.9711 - loss =  0.0013 - val loss =  0.0008\n",
      "epoch 6 : acc =  0.9536 - val acc =  0.9748 - loss =  0.0012 - val loss =  0.0007\n",
      "epoch 7 : acc =  0.9558 - val acc =  0.9761 - loss =  0.0011 - val loss =  0.0007\n",
      "epoch 8 : acc =  0.9572 - val acc =  0.9788 - loss =  0.0011 - val loss =  0.0007\n",
      "epoch 9 : acc =  0.9606 - val acc =  0.9785 - loss =  0.0010 - val loss =  0.0006\n"
     ]
    }
   ],
   "source": [
    "learning_rate= 0.001\n",
    "n_train_samples= len(train_dl.dataset)\n",
    "n_val_samples= len(val_dl.dataset)\n",
    "\n",
    "model= CNN()\n",
    "loss_fn= nn.CrossEntropyLoss()\n",
    "optimizer= torch.optim.Adam(model.parameters(), lr= learning_rate)\n",
    "\n",
    "n_epochs= 10\n",
    "log_print= 1 # print every 2 epoch\n",
    "\n",
    "acc_hist_train= [0] * n_epochs\n",
    "acc_hist_val= [0] * n_epochs\n",
    "\n",
    "loss_hist_train= [0] * n_epochs\n",
    "loss_hist_val= [0] * n_epochs\n",
    "\n",
    "for epoch in range(n_epochs):\n",
    "\n",
    "    model.train()\n",
    "    for x_batch, y_batch in train_dl:\n",
    "        \n",
    "        y_pred_proba= model(x_batch)\n",
    "        y_pred= torch.argmax(y_pred_proba, dim= 1)\n",
    "        \n",
    "        # backprop\n",
    "        loss= loss_fn(y_pred_proba, y_batch)\n",
    "        loss.backward()\n",
    "        optimizer.step()\n",
    "        optimizer.zero_grad()\n",
    "        \n",
    "        # get acc\n",
    "        is_correct= (y_pred == y_batch).float().sum()\n",
    "        \n",
    "        acc_hist_train[epoch] += is_correct.detach()\n",
    "        loss_hist_train[epoch] += loss.detach()\n",
    "    \n",
    "    acc_hist_train[epoch] /= n_train_samples\n",
    "    loss_hist_train[epoch] /= n_train_samples\n",
    "\n",
    "    model.eval()\n",
    "    with torch.no_grad():\n",
    "        for x_batch, y_batch in val_dl:\n",
    "            \n",
    "            y_pred_proba= model(x_batch)\n",
    "            y_pred= torch.argmax(y_pred_proba, dim= 1)\n",
    "            \n",
    "            loss= loss_fn(y_pred_proba, y_batch)\n",
    "\n",
    "            # get acc\n",
    "            is_correct= (y_pred == y_batch).float().sum()\n",
    "            \n",
    "            acc_hist_val[epoch] += is_correct.detach()\n",
    "            loss_hist_val[epoch] += loss.detach()\n",
    "        \n",
    "        acc_hist_val[epoch] /= n_val_samples\n",
    "        loss_hist_val[epoch] /= n_val_samples\n",
    "\n",
    "    if (epoch + 1) % log_print == 0: \n",
    "        acc= acc_hist_train[epoch]\n",
    "        loss= loss_hist_train[epoch]\n",
    "        val_acc= acc_hist_val[epoch]\n",
    "        val_loss= loss_hist_val[epoch]\n",
    "\n",
    "        print(f'epoch {epoch} : acc = {acc: .4f} - val acc = {val_acc: .4f} - '\n",
    "        f'loss = {loss: .4f} - val loss = {val_loss: .4f}'\n",
    "        )"
   ]
  },
  {
   "cell_type": "code",
   "execution_count": 17,
   "metadata": {},
   "outputs": [
    {
     "data": {
      "image/png": "[encoded data removed]",
      "text/plain": [
       "<Figure size 1000x400 with 2 Axes>"
      ]
     },
     "metadata": {},
     "output_type": "display_data"
    }
   ],
   "source": [
    "epochs= list(range(1, len(acc_hist_train) + 1))\n",
    "\n",
    "import matplotlib.pyplot as plt\n",
    "\n",
    "fig, axs= plt.subplots(ncols= 2, figsize=(10, 4))\n",
    "axs[0].plot(epochs, acc_hist_train)\n",
    "axs[0].plot(epochs, acc_hist_val)\n",
    "\n",
    "axs[1].plot(epochs, loss_hist_train)\n",
    "axs[1].plot(epochs, loss_hist_val)\n",
    "\n",
    "plt.suptitle('Pytorch Conv Model', fontweight= 'bold')\n",
    "\n",
    "plt.show()"
   ]
  }
 ],
 "metadata": {
  "kernelspec": {
   "display_name": "deep-learning",
   "language": "python",
   "name": "python3"
  },
  "language_info": {
   "codemirror_mode": {
    "name": "ipython",
    "version": 3
   },
   "file_extension": ".py",
   "mimetype": "text/x-python",
   "name": "python",
   "nbconvert_exporter": "python",
   "pygments_lexer": "ipython3",
   "version": "3.10.11"
  },
  "orig_nbformat": 4
 },
 "nbformat": 4,
 "nbformat_minor": 2
}
