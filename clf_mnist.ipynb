{
 "cells": [
  {
   "cell_type": "markdown",
   "metadata": {},
   "source": [
    "# With TF"
   ]
  },
  {
   "cell_type": "code",
   "execution_count": 71,
   "metadata": {},
   "outputs": [],
   "source": [
    "import numpy as np\n",
    "from sklearn.preprocessing import OneHotEncoder\n",
    "\n",
    "from tensorflow import keras\n",
    "import tensorflow as tf\n",
    "tf.config.run_functions_eagerly(True)\n",
    "\n",
    "from keras.layers import Conv2D, MaxPooling2D, Flatten, Dense, Dropout"
   ]
  },
  {
   "cell_type": "code",
   "execution_count": 66,
   "metadata": {},
   "outputs": [],
   "source": [
    "(X_train_full, y_train_full), (X_test, y_test) = keras.datasets.mnist.load_data()\n",
    "\n",
    "# rescale the images\n",
    "X_train_full= X_train_full / 255\n",
    "X_test= X_test / 255\n",
    "\n",
    "# split to train val test\n",
    "n_val= 10_000\n",
    "X_val= X_train_full[:n_val].copy()\n",
    "y_val= y_train_full[:n_val].copy()\n",
    "X_train= X_train_full[n_val:].copy()\n",
    "y_train= y_train_full[n_val:].copy()\n",
    "\n",
    "# encode the label\n",
    "encoder= OneHotEncoder(sparse_output= False, drop= None, \n",
    "                       handle_unknown= 'ignore')\n",
    "\n",
    "encoder.fit(y_train.reshape(-1, 1))\n",
    "y_train= encoder.transform(y_train.reshape(-1, 1))\n",
    "y_val= encoder.transform(y_val.reshape(-1, 1))\n",
    "y_test= encoder.transform(y_test.reshape(-1, 1))"
   ]
  },
  {
   "cell_type": "code",
   "execution_count": 68,
   "metadata": {},
   "outputs": [
    {
     "data": {
      "text/plain": [
       "array([0., 0., 0., 1., 0., 0., 0., 0., 0., 0.])"
      ]
     },
     "execution_count": 68,
     "metadata": {},
     "output_type": "execute_result"
    }
   ],
   "source": [
    "y_train[0]"
   ]
  },
  {
   "cell_type": "code",
   "execution_count": 69,
   "metadata": {},
   "outputs": [
    {
     "name": "stdout",
     "output_type": "stream",
     "text": [
      "(50000, 28, 28) (50000, 10)\n",
      "(10000, 28, 28) (10000, 10)\n",
      "(10000, 28, 28) (10000, 10)\n"
     ]
    }
   ],
   "source": [
    "print(X_train.shape, y_train.shape)\n",
    "print(X_val.shape, y_val.shape)\n",
    "print(X_test.shape, y_test.shape)"
   ]
  },
  {
   "cell_type": "code",
   "execution_count": 46,
   "metadata": {},
   "outputs": [
    {
     "data": {
      "text/plain": [
       "array([0, 1, 2, 3, 4, 5, 6, 7, 8, 9], dtype=uint8)"
      ]
     },
     "execution_count": 46,
     "metadata": {},
     "output_type": "execute_result"
    }
   ],
   "source": [
    "np.unique(y_train_full)"
   ]
  },
  {
   "cell_type": "code",
   "execution_count": 38,
   "metadata": {},
   "outputs": [
    {
     "name": "stdout",
     "output_type": "stream",
     "text": [
      "Model: \"sequential_9\"\n",
      "_________________________________________________________________\n",
      " Layer (type)                Output Shape              Param #   \n",
      "=================================================================\n",
      " conv2d_13 (Conv2D)          (None, 28, 28, 32)        320       \n",
      "                                                                 \n",
      " max_pooling2d_9 (MaxPooling  (None, 14, 14, 32)       0         \n",
      " 2D)                                                             \n",
      "                                                                 \n",
      " conv2d_14 (Conv2D)          (None, 14, 14, 64)        18496     \n",
      "                                                                 \n",
      " max_pooling2d_10 (MaxPoolin  (None, 7, 7, 64)         0         \n",
      " g2D)                                                            \n",
      "                                                                 \n",
      " flatten_4 (Flatten)         (None, 3136)              0         \n",
      "                                                                 \n",
      " dropout_2 (Dropout)         (None, 3136)              0         \n",
      "                                                                 \n",
      " dense_5 (Dense)             (None, 64)                200768    \n",
      "                                                                 \n",
      " dropout_3 (Dropout)         (None, 64)                0         \n",
      "                                                                 \n",
      " dense_6 (Dense)             (None, 10)                650       \n",
      "                                                                 \n",
      "=================================================================\n",
      "Total params: 220,234\n",
      "Trainable params: 220,234\n",
      "Non-trainable params: 0\n",
      "_________________________________________________________________\n"
     ]
    }
   ],
   "source": [
    "model= keras.Sequential()\n",
    "\n",
    "# conv1\n",
    "model.add(Conv2D(filters= 32, \n",
    "                 kernel_size= (3, 3),\n",
    "                 strides= 1, \n",
    "                 padding= 'same', \n",
    "                 activation= 'relu', \n",
    "                 # only need to specify input shape here\n",
    "                 input_shape= (28, 28, 1))) \n",
    "model.add(MaxPooling2D(pool_size= (2, 2)))\n",
    "\n",
    "# conv 2\n",
    "model.add(Conv2D(filters= 64, \n",
    "                 kernel_size= (3, 3),\n",
    "                 strides= 1, \n",
    "                 padding= 'same', \n",
    "                 activation= 'relu',))\n",
    "model.add(MaxPooling2D(pool_size= (2, 2)))\n",
    "\n",
    "# fully connected layers\n",
    "model.add(Flatten())\n",
    "model.add(Dropout(rate= 0.3))\n",
    "model.add(Dense(units= 64, activation='relu'))\n",
    "model.add(Dropout(rate= 0.5))\n",
    "model.add(Dense(units= 10, activation='softmax'))\n",
    "\n",
    "model.summary()"
   ]
  },
  {
   "cell_type": "code",
   "execution_count": 54,
   "metadata": {},
   "outputs": [],
   "source": [
    "model.compile(loss='categorical_crossentropy', \n",
    "              optimizer= 'rmsprop', \n",
    "              metrics= ['accuracy'])"
   ]
  },
  {
   "cell_type": "code",
   "execution_count": 72,
   "metadata": {},
   "outputs": [
    {
     "name": "stdout",
     "output_type": "stream",
     "text": [
      "Epoch 1/10\n"
     ]
    },
    {
     "name": "stderr",
     "output_type": "stream",
     "text": [
      "/home/anj/miniconda3/envs/deep-learning/lib/python3.10/site-packages/tensorflow/python/data/ops/structured_function.py:256: UserWarning: Even though the `tf.config.experimental_run_functions_eagerly` option is set, this option does not apply to tf.data functions. To force eager execution of tf.data functions, please use `tf.data.experimental.enable_debug_mode()`.\n",
      "  warnings.warn(\n"
     ]
    },
    {
     "name": "stdout",
     "output_type": "stream",
     "text": [
      "1563/1563 [==============================] - 58s 37ms/step - loss: 0.2907 - accuracy: 0.9112 - val_loss: 0.0736 - val_accuracy: 0.9795\n",
      "Epoch 2/10\n",
      "1563/1563 [==============================] - 57s 37ms/step - loss: 0.1167 - accuracy: 0.9655 - val_loss: 0.0757 - val_accuracy: 0.9815\n",
      "Epoch 3/10\n",
      "1563/1563 [==============================] - 55s 35ms/step - loss: 0.0983 - accuracy: 0.9732 - val_loss: 0.0593 - val_accuracy: 0.9822\n",
      "Epoch 4/10\n",
      "1563/1563 [==============================] - 56s 36ms/step - loss: 0.0884 - accuracy: 0.9751 - val_loss: 0.0731 - val_accuracy: 0.9811\n",
      "Epoch 5/10\n",
      "1563/1563 [==============================] - 55s 35ms/step - loss: 0.0881 - accuracy: 0.9758 - val_loss: 0.0472 - val_accuracy: 0.9870\n",
      "Epoch 6/10\n",
      "1563/1563 [==============================] - 55s 35ms/step - loss: 0.0905 - accuracy: 0.9748 - val_loss: 0.0663 - val_accuracy: 0.9833\n",
      "Epoch 7/10\n",
      "1563/1563 [==============================] - 56s 36ms/step - loss: 0.0945 - accuracy: 0.9750 - val_loss: 0.0567 - val_accuracy: 0.9860\n",
      "Epoch 8/10\n",
      "1563/1563 [==============================] - 55s 35ms/step - loss: 0.0986 - accuracy: 0.9747 - val_loss: 0.0749 - val_accuracy: 0.9835\n",
      "Epoch 9/10\n",
      "1563/1563 [==============================] - 55s 35ms/step - loss: 0.1000 - accuracy: 0.9738 - val_loss: 0.0628 - val_accuracy: 0.9873\n",
      "Epoch 10/10\n",
      "1563/1563 [==============================] - 56s 36ms/step - loss: 0.1070 - accuracy: 0.9733 - val_loss: 0.0625 - val_accuracy: 0.9860\n"
     ]
    }
   ],
   "source": [
    "hist= model.fit(x= X_train, \n",
    "                y= y_train,\n",
    "                batch_size= 32, \n",
    "                epochs= 10, \n",
    "                validation_data= (X_val, y_val),\n",
    "                verbose= 1, \n",
    "                shuffle= True)"
   ]
  },
  {
   "cell_type": "code",
   "execution_count": 77,
   "metadata": {},
   "outputs": [
    {
     "data": {
      "text/plain": [
       "dict_keys(['loss', 'accuracy', 'val_loss', 'val_accuracy'])"
      ]
     },
     "execution_count": 77,
     "metadata": {},
     "output_type": "execute_result"
    }
   ],
   "source": [
    "hist.history.keys()"
   ]
  },
  {
   "cell_type": "code",
   "execution_count": 87,
   "metadata": {},
   "outputs": [
    {
     "data": {
      "image/png": "[encoded data removed]",
      "text/plain": [
       "<Figure size 1600x800 with 2 Axes>"
      ]
     },
     "metadata": {},
     "output_type": "display_data"
    }
   ],
   "source": [
    "train_acc= hist.history['accuracy']\n",
    "val_acc= hist.history['val_accuracy']\n",
    "epochs= list(range(1, len(train_acc) + 1))\n",
    "\n",
    "import matplotlib.pyplot as plt\n",
    "\n",
    "fig, axs= plt.subplots(ncols= 2, figsize=(16, 8))\n",
    "axs[0].plot(epochs, train_acc)\n",
    "axs[0].plot(epochs, val_acc)\n",
    "\n",
    "plt.show()"
   ]
  }
 ],
 "metadata": {
  "kernelspec": {
   "display_name": "deep-learning",
   "language": "python",
   "name": "python3"
  },
  "language_info": {
   "codemirror_mode": {
    "name": "ipython",
    "version": 3
   },
   "file_extension": ".py",
   "mimetype": "text/x-python",
   "name": "python",
   "nbconvert_exporter": "python",
   "pygments_lexer": "ipython3",
   "version": "3.10.11"
  },
  "orig_nbformat": 4
 },
 "nbformat": 4,
 "nbformat_minor": 2
}
