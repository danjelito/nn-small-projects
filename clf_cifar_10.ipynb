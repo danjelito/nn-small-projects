{
 "cells": [
  {
   "cell_type": "markdown",
   "metadata": {},
   "source": [
    "# get subset of data"
   ]
  },
  {
   "cell_type": "code",
   "execution_count": 2,
   "metadata": {},
   "outputs": [
    {
     "name": "stdout",
     "output_type": "stream",
     "text": [
      "train - deer - 1000\n",
      "train - cat - 1000\n",
      "train - horse - 1000\n",
      "train - dog - 1000\n",
      "train - automobile - 1000\n",
      "train - bird - 1000\n",
      "train - frog - 1000\n",
      "train - truck - 1000\n",
      "train - airplane - 1000\n",
      "train - ship - 1000\n",
      "test - deer - 200\n",
      "test - cat - 200\n",
      "test - horse - 200\n",
      "test - dog - 200\n",
      "test - automobile - 200\n",
      "test - bird - 200\n",
      "test - frog - 200\n",
      "test - truck - 200\n",
      "test - airplane - 200\n",
      "test - ship - 200\n"
     ]
    }
   ],
   "source": [
    "import os\n",
    "import random\n",
    "from pathlib import Path\n",
    "\n",
    "dir = Path('dataset/cifar10-small')\n",
    "\n",
    "for subset in ['train', 'test']:\n",
    "    for class_ in os.listdir(dir / subset):\n",
    "        path= dir / subset / class_\n",
    "        \n",
    "        image_files = os.listdir(path)\n",
    "        print(subset, '-', class_, '-', len(image_files))"
   ]
  },
  {
   "cell_type": "code",
   "execution_count": 3,
   "metadata": {},
   "outputs": [],
   "source": [
    "dataset_size= 0.2\n",
    "DELETE= False\n",
    "\n",
    "if DELETE:\n",
    "    for subset in ['train', 'test']:\n",
    "        for class_ in os.listdir(dir / subset):\n",
    "            path= dir / subset / class_\n",
    "            \n",
    "            image_files = os.listdir(path)\n",
    "\n",
    "            # get random images based on intended dataset_size\n",
    "            num_images_to_delete = int((1-dataset_size) * len(image_files))\n",
    "            images_to_delete = random.sample(image_files, num_images_to_delete)\n",
    "\n",
    "            # delete images\n",
    "            for image in images_to_delete:\n",
    "                image_path = os.path.join(path, image)\n",
    "                os.remove(image_path)"
   ]
  },
  {
   "cell_type": "code",
   "execution_count": 4,
   "metadata": {},
   "outputs": [
    {
     "name": "stdout",
     "output_type": "stream",
     "text": [
      "train - deer - 1000\n",
      "train - cat - 1000\n",
      "train - horse - 1000\n",
      "train - dog - 1000\n",
      "train - automobile - 1000\n",
      "train - bird - 1000\n",
      "train - frog - 1000\n",
      "train - truck - 1000\n",
      "train - airplane - 1000\n",
      "train - ship - 1000\n",
      "test - deer - 200\n",
      "test - cat - 200\n",
      "test - horse - 200\n",
      "test - dog - 200\n",
      "test - automobile - 200\n",
      "test - bird - 200\n",
      "test - frog - 200\n",
      "test - truck - 200\n",
      "test - airplane - 200\n",
      "test - ship - 200\n"
     ]
    }
   ],
   "source": [
    "dir = Path('dataset/cifar10-small')\n",
    "\n",
    "for subset in ['train', 'test']:\n",
    "    for class_ in os.listdir(dir / subset):\n",
    "        path= dir / subset / class_\n",
    "        \n",
    "        image_files = os.listdir(path)\n",
    "        print(subset, '-', class_, '-', len(image_files))"
   ]
  },
  {
   "cell_type": "markdown",
   "metadata": {},
   "source": [
    "# get dataset as array"
   ]
  },
  {
   "cell_type": "code",
   "execution_count": 5,
   "metadata": {},
   "outputs": [],
   "source": [
    "import os\n",
    "import numpy as np\n",
    "from PIL import Image"
   ]
  },
  {
   "cell_type": "code",
   "execution_count": 6,
   "metadata": {},
   "outputs": [
    {
     "name": "stdout",
     "output_type": "stream",
     "text": [
      "(8000, 32, 32, 3) (8000,)\n",
      "(2000, 32, 32, 3) (2000,)\n",
      "(2000, 32, 32, 3) (2000,)\n"
     ]
    }
   ],
   "source": [
    "def load_image_dataset(root_dir, shuffle= True):\n",
    "    \n",
    "    class_labels = []\n",
    "    images = []\n",
    "    \n",
    "    for class_dir in os.listdir(root_dir):\n",
    "        class_path = os.path.join(root_dir, class_dir)\n",
    "        if os.path.isdir(class_path):\n",
    "            class_label = class_dir\n",
    "            for image_file in os.listdir(class_path):\n",
    "                image_path = os.path.join(class_path, image_file)\n",
    "                image = Image.open(image_path)\n",
    "                image = np.array(image)\n",
    "                class_labels.append(class_label)\n",
    "                images.append(image)\n",
    "\n",
    "    images = np.array(images)\n",
    "    class_labels = np.array(class_labels)\n",
    "    \n",
    "    if shuffle:\n",
    "        shuffle_indices = np.random.permutation(len(images))\n",
    "        images = images[shuffle_indices]\n",
    "        class_labels = class_labels[shuffle_indices]\n",
    "    \n",
    "    return images, class_labels\n",
    "\n",
    "train = 'dataset/cifar10-small/train'\n",
    "x_train, y_train= load_image_dataset(train)\n",
    "\n",
    "test = 'dataset/cifar10-small/test'\n",
    "x_test, y_test= load_image_dataset(test)\n",
    "\n",
    "# get validation set\n",
    "perc_vals= 0.2\n",
    "n_vals= int(len(x_train) * perc_vals)\n",
    "\n",
    "x_val= x_train[:n_vals]\n",
    "y_val= y_train[:n_vals]\n",
    "\n",
    "x_train= x_train[n_vals:]\n",
    "y_train= y_train[n_vals:]\n",
    "\n",
    "print(x_train.shape, y_train.shape)\n",
    "print(x_val.shape, y_val.shape)\n",
    "print(x_test.shape, y_test.shape)"
   ]
  },
  {
   "cell_type": "markdown",
   "metadata": {},
   "source": [
    "# with TF"
   ]
  },
  {
   "cell_type": "code",
   "execution_count": 7,
   "metadata": {},
   "outputs": [
    {
     "name": "stderr",
     "output_type": "stream",
     "text": [
      "2023-07-16 08:17:43.926414: I tensorflow/core/platform/cpu_feature_guard.cc:193] This TensorFlow binary is optimized with oneAPI Deep Neural Network Library (oneDNN) to use the following CPU instructions in performance-critical operations:  SSE4.1 SSE4.2 AVX AVX2 FMA\n",
      "To enable them in other operations, rebuild TensorFlow with the appropriate compiler flags.\n"
     ]
    }
   ],
   "source": [
    "import tensorflow as tf\n",
    "from tensorflow import keras\n",
    "from keras.utils import image_dataset_from_directory\n",
    "from keras import layers\n",
    "from keras.preprocessing.image import ImageDataGenerator\n",
    "from keras.callbacks import ModelCheckpoint\n",
    "from sklearn.preprocessing import OneHotEncoder\n",
    "from keras.layers import Conv2D, MaxPooling2D, BatchNormalization, Dense, Activation, Flatten, Dropout"
   ]
  },
  {
   "cell_type": "code",
   "execution_count": 8,
   "metadata": {},
   "outputs": [],
   "source": [
    "# normalize the data\n",
    "mean= np.mean(x_train)\n",
    "std= np.std(x_train)\n",
    "\n",
    "x_train_clean= (x_train - mean)/std\n",
    "x_val_clean= (x_val - mean)/std\n",
    "x_test_clean= (x_test - mean)/std\n",
    "\n",
    "# convert labels to one-hot\n",
    "encoder= OneHotEncoder(sparse_output= False, drop= None, handle_unknown= 'ignore')\n",
    "encoder.fit(y_train.reshape(-1, 1))\n",
    "y_train_clean= encoder.transform(y_train.reshape(-1, 1))\n",
    "y_val_clean= encoder.transform(y_val.reshape(-1, 1))\n",
    "y_test_clean= encoder.transform(y_test.reshape(-1, 1))"
   ]
  },
  {
   "cell_type": "code",
   "execution_count": 9,
   "metadata": {},
   "outputs": [
    {
     "data": {
      "text/plain": [
       "<keras.preprocessing.image.ImageDataGenerator at 0x7fc136a5be50>"
      ]
     },
     "execution_count": 9,
     "metadata": {},
     "output_type": "execute_result"
    }
   ],
   "source": [
    "datagen= ImageDataGenerator(\n",
    "    rotation_range= 15, \n",
    "    width_shift_range= 0.1, \n",
    "    height_shift_range= 0.1,\n",
    "    horizontal_flip= True,\n",
    "    vertical_flip= True\n",
    ")\n",
    "datagen.fit(x_train_clean)\n",
    "datagen"
   ]
  },
  {
   "cell_type": "code",
   "execution_count": 10,
   "metadata": {},
   "outputs": [
    {
     "data": {
      "text/plain": [
       "(32, 32, 3)"
      ]
     },
     "execution_count": 10,
     "metadata": {},
     "output_type": "execute_result"
    }
   ],
   "source": [
    "x_train_clean.shape[1:]"
   ]
  },
  {
   "cell_type": "code",
   "execution_count": 11,
   "metadata": {},
   "outputs": [
    {
     "data": {
      "text/plain": [
       "10"
      ]
     },
     "execution_count": 11,
     "metadata": {},
     "output_type": "execute_result"
    }
   ],
   "source": [
    "y_train_clean.shape[-1]"
   ]
  },
  {
   "cell_type": "code",
   "execution_count": 12,
   "metadata": {},
   "outputs": [
    {
     "name": "stderr",
     "output_type": "stream",
     "text": [
      "2023-07-16 08:17:46.530468: I tensorflow/core/platform/cpu_feature_guard.cc:193] This TensorFlow binary is optimized with oneAPI Deep Neural Network Library (oneDNN) to use the following CPU instructions in performance-critical operations:  SSE4.1 SSE4.2 AVX AVX2 FMA\n",
      "To enable them in other operations, rebuild TensorFlow with the appropriate compiler flags.\n",
      "2023-07-16 08:17:46.537650: I tensorflow/core/common_runtime/process_util.cc:146] Creating new thread pool with default inter op setting: 2. Tune using inter_op_parallelism_threads for best performance.\n"
     ]
    },
    {
     "name": "stdout",
     "output_type": "stream",
     "text": [
      "Model: \"sequential\"\n",
      "_________________________________________________________________\n",
      " Layer (type)                Output Shape              Param #   \n",
      "=================================================================\n",
      " conv2d (Conv2D)             (None, 32, 32, 32)        896       \n",
      "                                                                 \n",
      " activation (Activation)     (None, 32, 32, 32)        0         \n",
      "                                                                 \n",
      " batch_normalization (BatchN  (None, 32, 32, 32)       128       \n",
      " ormalization)                                                   \n",
      "                                                                 \n",
      " conv2d_1 (Conv2D)           (None, 32, 32, 32)        9248      \n",
      "                                                                 \n",
      " activation_1 (Activation)   (None, 32, 32, 32)        0         \n",
      "                                                                 \n",
      " batch_normalization_1 (Batc  (None, 32, 32, 32)       128       \n",
      " hNormalization)                                                 \n",
      "                                                                 \n",
      " max_pooling2d (MaxPooling2D  (None, 16, 16, 32)       0         \n",
      " )                                                               \n",
      "                                                                 \n",
      " dropout (Dropout)           (None, 16, 16, 32)        0         \n",
      "                                                                 \n",
      " conv2d_2 (Conv2D)           (None, 16, 16, 64)        18496     \n",
      "                                                                 \n",
      " activation_2 (Activation)   (None, 16, 16, 64)        0         \n",
      "                                                                 \n",
      " batch_normalization_2 (Batc  (None, 16, 16, 64)       256       \n",
      " hNormalization)                                                 \n",
      "                                                                 \n",
      " conv2d_3 (Conv2D)           (None, 16, 16, 64)        36928     \n",
      "                                                                 \n",
      " activation_3 (Activation)   (None, 16, 16, 64)        0         \n",
      "                                                                 \n",
      " batch_normalization_3 (Batc  (None, 16, 16, 64)       256       \n",
      " hNormalization)                                                 \n",
      "                                                                 \n",
      " max_pooling2d_1 (MaxPooling  (None, 8, 8, 64)         0         \n",
      " 2D)                                                             \n",
      "                                                                 \n",
      " dropout_1 (Dropout)         (None, 8, 8, 64)          0         \n",
      "                                                                 \n",
      " conv2d_4 (Conv2D)           (None, 8, 8, 128)         73856     \n",
      "                                                                 \n",
      " activation_4 (Activation)   (None, 8, 8, 128)         0         \n",
      "                                                                 \n",
      " batch_normalization_4 (Batc  (None, 8, 8, 128)        512       \n",
      " hNormalization)                                                 \n",
      "                                                                 \n",
      " conv2d_5 (Conv2D)           (None, 8, 8, 128)         147584    \n",
      "                                                                 \n",
      " activation_5 (Activation)   (None, 8, 8, 128)         0         \n",
      "                                                                 \n",
      " batch_normalization_5 (Batc  (None, 8, 8, 128)        512       \n",
      " hNormalization)                                                 \n",
      "                                                                 \n",
      " max_pooling2d_2 (MaxPooling  (None, 4, 4, 128)        0         \n",
      " 2D)                                                             \n",
      "                                                                 \n",
      " dropout_2 (Dropout)         (None, 4, 4, 128)         0         \n",
      "                                                                 \n",
      " flatten (Flatten)           (None, 2048)              0         \n",
      "                                                                 \n",
      " dense (Dense)               (None, 10)                20490     \n",
      "                                                                 \n",
      "=================================================================\n",
      "Total params: 309,290\n",
      "Trainable params: 308,394\n",
      "Non-trainable params: 896\n",
      "_________________________________________________________________\n"
     ]
    }
   ],
   "source": [
    "base_hidden_unit= 32\n",
    "num_classes= y_train_clean.shape[-1]\n",
    "weight_decay= 1e-4\n",
    "model= keras.Sequential()\n",
    "\n",
    "# conv 1\n",
    "model.add(Conv2D(filters= base_hidden_unit, \n",
    "                 kernel_size= (3, 3),\n",
    "                 padding= 'same', \n",
    "                 kernel_regularizer= keras.regularizers.l2(weight_decay),\n",
    "                 input_shape= x_train_clean.shape[1:]\n",
    "                 ))\n",
    "model.add(Activation('relu'))\n",
    "model.add(BatchNormalization())\n",
    "\n",
    "# conv 2\n",
    "model.add(Conv2D(filters= base_hidden_unit, \n",
    "                 kernel_size= (3, 3),\n",
    "                 padding= 'same', \n",
    "                 kernel_regularizer= keras.regularizers.l2(weight_decay),\n",
    "                 ))\n",
    "model.add(Activation('relu'))\n",
    "model.add(BatchNormalization())\n",
    "\n",
    "# pool + dropout\n",
    "model.add(MaxPooling2D(pool_size= (2, 2)))\n",
    "model.add(Dropout(0.2))\n",
    "\n",
    "# conv 3\n",
    "model.add(Conv2D(filters= base_hidden_unit * 2, \n",
    "                 kernel_size= (3, 3),\n",
    "                 padding= 'same', \n",
    "                 kernel_regularizer= keras.regularizers.l2(weight_decay),\n",
    "                 ))\n",
    "model.add(Activation('relu'))\n",
    "model.add(BatchNormalization())\n",
    "\n",
    "# conv 4\n",
    "model.add(Conv2D(filters= base_hidden_unit *2, \n",
    "                 kernel_size= (3, 3),\n",
    "                 padding= 'same', \n",
    "                 kernel_regularizer= keras.regularizers.l2(weight_decay),\n",
    "                 ))\n",
    "model.add(Activation('relu'))\n",
    "model.add(BatchNormalization())\n",
    "\n",
    "# pool + dropout\n",
    "model.add(MaxPooling2D(pool_size= (2, 2)))\n",
    "model.add(Dropout(0.3))\n",
    "\n",
    "# conv 5\n",
    "model.add(Conv2D(filters= base_hidden_unit * 4, \n",
    "                 kernel_size= (3, 3),\n",
    "                 padding= 'same', \n",
    "                 kernel_regularizer= keras.regularizers.l2(weight_decay),\n",
    "                 ))\n",
    "model.add(Activation('relu'))\n",
    "model.add(BatchNormalization())\n",
    "\n",
    "# conv 6\n",
    "model.add(Conv2D(filters= base_hidden_unit * 4, \n",
    "                 kernel_size= (3, 3),\n",
    "                 padding= 'same', \n",
    "                 kernel_regularizer= keras.regularizers.l2(weight_decay),\n",
    "                 ))\n",
    "model.add(Activation('relu'))\n",
    "model.add(BatchNormalization())\n",
    "\n",
    "# pool + dropout\n",
    "model.add(MaxPooling2D(pool_size= (2, 2)))\n",
    "model.add(Dropout(0.4))\n",
    "\n",
    "# fc\n",
    "model.add(Flatten())\n",
    "model.add(Dense(num_classes, activation= 'softmax'))\n",
    "\n",
    "model.summary()"
   ]
  },
  {
   "cell_type": "code",
   "execution_count": 13,
   "metadata": {},
   "outputs": [
    {
     "name": "stderr",
     "output_type": "stream",
     "text": [
      "WARNING:absl:`lr` is deprecated, please use `learning_rate` instead, or use the legacy optimizer, e.g.,tf.keras.optimizers.legacy.Adam.\n"
     ]
    }
   ],
   "source": [
    "TRAIN= False\n",
    "batch_size= 16\n",
    "epochs= 100\n",
    "model_path= 'output/model.hdf5'\n",
    "\n",
    "checkpoint= ModelCheckpoint(filepath= model_path, save_best_only= True, verbose= 1)\n",
    "optimizer= keras.optimizers.Adam(lr=0.0001,\n",
    "                                 weight_decay= 1e-6)\n",
    "\n",
    "model.compile(loss='categorical_crossentropy', \n",
    "              optimizer= optimizer,\n",
    "              metrics= ['accuracy'])\n",
    "\n",
    "if TRAIN:\n",
    "    history= model.fit_generator(\n",
    "        datagen.flow(x_train_clean, y_train_clean, batch_size= batch_size),\n",
    "        callbacks= checkpoint, \n",
    "        steps_per_epoch= x_train_clean.shape[0] // batch_size, \n",
    "        epochs= epochs,\n",
    "        verbose= 1, \n",
    "        validation_data= (x_val_clean, y_val_clean)\n",
    "        )"
   ]
  },
  {
   "cell_type": "code",
   "execution_count": 16,
   "metadata": {},
   "outputs": [
    {
     "name": "stdout",
     "output_type": "stream",
     "text": [
      "Model: \"sequential_2\"\n",
      "_________________________________________________________________\n",
      " Layer (type)                Output Shape              Param #   \n",
      "=================================================================\n",
      " conv2d_1 (Conv2D)           (None, 32, 32, 32)        896       \n",
      "                                                                 \n",
      " activation (Activation)     (None, 32, 32, 32)        0         \n",
      "                                                                 \n",
      " batch_normalization (BatchN  (None, 32, 32, 32)       128       \n",
      " ormalization)                                                   \n",
      "                                                                 \n",
      " conv2d_2 (Conv2D)           (None, 32, 32, 32)        9248      \n",
      "                                                                 \n",
      " activation_1 (Activation)   (None, 32, 32, 32)        0         \n",
      "                                                                 \n",
      " batch_normalization_1 (Batc  (None, 32, 32, 32)       128       \n",
      " hNormalization)                                                 \n",
      "                                                                 \n",
      " max_pooling2d (MaxPooling2D  (None, 16, 16, 32)       0         \n",
      " )                                                               \n",
      "                                                                 \n",
      " dropout (Dropout)           (None, 16, 16, 32)        0         \n",
      "                                                                 \n",
      " conv2d_3 (Conv2D)           (None, 16, 16, 64)        18496     \n",
      "                                                                 \n",
      " activation_2 (Activation)   (None, 16, 16, 64)        0         \n",
      "                                                                 \n",
      " batch_normalization_2 (Batc  (None, 16, 16, 64)       256       \n",
      " hNormalization)                                                 \n",
      "                                                                 \n",
      " conv2d_4 (Conv2D)           (None, 16, 16, 64)        36928     \n",
      "                                                                 \n",
      " activation_3 (Activation)   (None, 16, 16, 64)        0         \n",
      "                                                                 \n",
      " batch_normalization_3 (Batc  (None, 16, 16, 64)       256       \n",
      " hNormalization)                                                 \n",
      "                                                                 \n",
      " max_pooling2d_1 (MaxPooling  (None, 8, 8, 64)         0         \n",
      " 2D)                                                             \n",
      "                                                                 \n",
      " dropout_1 (Dropout)         (None, 8, 8, 64)          0         \n",
      "                                                                 \n",
      " conv2d_5 (Conv2D)           (None, 8, 8, 128)         73856     \n",
      "                                                                 \n",
      " activation_4 (Activation)   (None, 8, 8, 128)         0         \n",
      "                                                                 \n",
      " batch_normalization_4 (Batc  (None, 8, 8, 128)        512       \n",
      " hNormalization)                                                 \n",
      "                                                                 \n",
      " conv2d_6 (Conv2D)           (None, 8, 8, 128)         147584    \n",
      "                                                                 \n",
      " activation_5 (Activation)   (None, 8, 8, 128)         0         \n",
      "                                                                 \n",
      " batch_normalization_5 (Batc  (None, 8, 8, 128)        512       \n",
      " hNormalization)                                                 \n",
      "                                                                 \n",
      " max_pooling2d_2 (MaxPooling  (None, 4, 4, 128)        0         \n",
      " 2D)                                                             \n",
      "                                                                 \n",
      " dropout_2 (Dropout)         (None, 4, 4, 128)         0         \n",
      "                                                                 \n",
      " flatten (Flatten)           (None, 2048)              0         \n",
      "                                                                 \n",
      " dense (Dense)               (None, 10)                20490     \n",
      "                                                                 \n",
      "=================================================================\n",
      "Total params: 309,290\n",
      "Trainable params: 308,394\n",
      "Non-trainable params: 896\n",
      "_________________________________________________________________\n"
     ]
    }
   ],
   "source": [
    "saved_model= keras.models.load_model(model_path)\n",
    "saved_model.summary()"
   ]
  },
  {
   "cell_type": "code",
   "execution_count": 17,
   "metadata": {},
   "outputs": [
    {
     "name": "stdout",
     "output_type": "stream",
     "text": [
      "16/16 [==============================] - 5s 252ms/step - loss: 1.0534 - accuracy: 0.6870\n",
      "\n",
      "Test result: 68.700 loss: 1.053\n"
     ]
    }
   ],
   "source": [
    "scores = saved_model.evaluate(x_test_clean, \n",
    "                              y_test_clean, \n",
    "                              batch_size=128, \n",
    "                              verbose=1)\n",
    "print('\\nTest result: %.3f loss: %.3f' % (scores[1]*100,scores[0]))"
   ]
  },
  {
   "cell_type": "markdown",
   "metadata": {},
   "source": [
    "# with pytorch"
   ]
  },
  {
   "cell_type": "code",
   "execution_count": 20,
   "metadata": {},
   "outputs": [],
   "source": [
    "import torch\n",
    "import torch.nn as nn\n",
    "from sklearn.model_selection import train_test_split\n",
    "from sklearn.preprocessing import StandardScaler\n",
    "from torch.utils.data import DataLoader, TensorDataset"
   ]
  },
  {
   "cell_type": "code",
   "execution_count": 21,
   "metadata": {},
   "outputs": [
    {
     "name": "stdout",
     "output_type": "stream",
     "text": [
      "(8000, 32, 32, 3) (8000,)\n",
      "(2000, 32, 32, 3) (2000,)\n",
      "(2000, 32, 32, 3) (2000,)\n"
     ]
    }
   ],
   "source": [
    "print(x_train.shape, y_train.shape)\n",
    "print(x_val.shape, y_val.shape)\n",
    "print(x_test.shape, y_test.shape)"
   ]
  },
  {
   "cell_type": "code",
   "execution_count": null,
   "metadata": {},
   "outputs": [],
   "source": []
  }
 ],
 "metadata": {
  "kernelspec": {
   "display_name": "deep-learning",
   "language": "python",
   "name": "python3"
  },
  "language_info": {
   "codemirror_mode": {
    "name": "ipython",
    "version": 3
   },
   "file_extension": ".py",
   "mimetype": "text/x-python",
   "name": "python",
   "nbconvert_exporter": "python",
   "pygments_lexer": "ipython3",
   "version": "3.10.11"
  },
  "orig_nbformat": 4
 },
 "nbformat": 4,
 "nbformat_minor": 2
}
