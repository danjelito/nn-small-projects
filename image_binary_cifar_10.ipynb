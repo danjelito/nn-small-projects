{
 "cells": [
  {
   "cell_type": "markdown",
   "metadata": {},
   "source": [
    "# get subset of data"
   ]
  },
  {
   "cell_type": "code",
   "execution_count": 2,
   "metadata": {},
   "outputs": [
    {
     "name": "stdout",
     "output_type": "stream",
     "text": [
      "train - deer - 1000\n",
      "train - cat - 1000\n",
      "train - horse - 1000\n",
      "train - dog - 1000\n",
      "train - automobile - 1000\n",
      "train - bird - 1000\n",
      "train - frog - 1000\n",
      "train - truck - 1000\n",
      "train - airplane - 1000\n",
      "train - ship - 1000\n",
      "test - deer - 200\n",
      "test - cat - 200\n",
      "test - horse - 200\n",
      "test - dog - 200\n",
      "test - automobile - 200\n",
      "test - bird - 200\n",
      "test - frog - 200\n",
      "test - truck - 200\n",
      "test - airplane - 200\n",
      "test - ship - 200\n"
     ]
    }
   ],
   "source": [
    "import os\n",
    "import random\n",
    "from pathlib import Path\n",
    "\n",
    "dir = Path('dataset/cifar10-small')\n",
    "\n",
    "for subset in ['train', 'test']:\n",
    "    for class_ in os.listdir(dir / subset):\n",
    "        path= dir / subset / class_\n",
    "        \n",
    "        image_files = os.listdir(path)\n",
    "        print(subset, '-', class_, '-', len(image_files))"
   ]
  },
  {
   "cell_type": "code",
   "execution_count": 3,
   "metadata": {},
   "outputs": [],
   "source": [
    "dataset_size= 0.2\n",
    "DELETE= False\n",
    "\n",
    "if DELETE:\n",
    "    for subset in ['train', 'test']:\n",
    "        for class_ in os.listdir(dir / subset):\n",
    "            path= dir / subset / class_\n",
    "            \n",
    "            image_files = os.listdir(path)\n",
    "\n",
    "            # get random images based on intended dataset_size\n",
    "            num_images_to_delete = int((1-dataset_size) * len(image_files))\n",
    "            images_to_delete = random.sample(image_files, num_images_to_delete)\n",
    "\n",
    "            # delete images\n",
    "            for image in images_to_delete:\n",
    "                image_path = os.path.join(path, image)\n",
    "                os.remove(image_path)"
   ]
  },
  {
   "cell_type": "code",
   "execution_count": 4,
   "metadata": {},
   "outputs": [
    {
     "name": "stdout",
     "output_type": "stream",
     "text": [
      "train - deer - 1000\n",
      "train - cat - 1000\n",
      "train - horse - 1000\n",
      "train - dog - 1000\n",
      "train - automobile - 1000\n",
      "train - bird - 1000\n",
      "train - frog - 1000\n",
      "train - truck - 1000\n",
      "train - airplane - 1000\n",
      "train - ship - 1000\n",
      "test - deer - 200\n",
      "test - cat - 200\n",
      "test - horse - 200\n",
      "test - dog - 200\n",
      "test - automobile - 200\n",
      "test - bird - 200\n",
      "test - frog - 200\n",
      "test - truck - 200\n",
      "test - airplane - 200\n",
      "test - ship - 200\n"
     ]
    }
   ],
   "source": [
    "dir = Path('dataset/cifar10-small')\n",
    "\n",
    "for subset in ['train', 'test']:\n",
    "    for class_ in os.listdir(dir / subset):\n",
    "        path= dir / subset / class_\n",
    "        \n",
    "        image_files = os.listdir(path)\n",
    "        print(subset, '-', class_, '-', len(image_files))"
   ]
  },
  {
   "cell_type": "markdown",
   "metadata": {},
   "source": [
    "# get dataset as array"
   ]
  },
  {
   "cell_type": "code",
   "execution_count": 5,
   "metadata": {},
   "outputs": [],
   "source": [
    "import os\n",
    "import numpy as np\n",
    "from PIL import Image"
   ]
  },
  {
   "cell_type": "code",
   "execution_count": 6,
   "metadata": {},
   "outputs": [
    {
     "name": "stdout",
     "output_type": "stream",
     "text": [
      "(8000, 32, 32, 3) (8000,)\n",
      "(2000, 32, 32, 3) (2000,)\n",
      "(2000, 32, 32, 3) (2000,)\n"
     ]
    }
   ],
   "source": [
    "def load_image_dataset(root_dir, shuffle= True):\n",
    "    \n",
    "    class_labels = []\n",
    "    images = []\n",
    "    \n",
    "    for class_dir in os.listdir(root_dir):\n",
    "        class_path = os.path.join(root_dir, class_dir)\n",
    "        if os.path.isdir(class_path):\n",
    "            class_label = class_dir\n",
    "            for image_file in os.listdir(class_path):\n",
    "                image_path = os.path.join(class_path, image_file)\n",
    "                image = Image.open(image_path)\n",
    "                image = np.array(image)\n",
    "                class_labels.append(class_label)\n",
    "                images.append(image)\n",
    "\n",
    "    images = np.array(images)\n",
    "    class_labels = np.array(class_labels)\n",
    "    \n",
    "    if shuffle:\n",
    "        shuffle_indices = np.random.permutation(len(images))\n",
    "        images = images[shuffle_indices]\n",
    "        class_labels = class_labels[shuffle_indices]\n",
    "    \n",
    "    return images, class_labels\n",
    "\n",
    "train = 'dataset/cifar10-small/train'\n",
    "x_train, y_train= load_image_dataset(train)\n",
    "\n",
    "test = 'dataset/cifar10-small/test'\n",
    "x_test, y_test= load_image_dataset(test)\n",
    "\n",
    "# get validation set\n",
    "perc_vals= 0.2\n",
    "n_vals= int(len(x_train) * perc_vals)\n",
    "\n",
    "x_val= x_train[:n_vals]\n",
    "y_val= y_train[:n_vals]\n",
    "\n",
    "x_train= x_train[n_vals:]\n",
    "y_train= y_train[n_vals:]\n",
    "\n",
    "print(x_train.shape, y_train.shape)\n",
    "print(x_val.shape, y_val.shape)\n",
    "print(x_test.shape, y_test.shape)"
   ]
  },
  {
   "cell_type": "markdown",
   "metadata": {},
   "source": [
    "# with TF"
   ]
  },
  {
   "cell_type": "code",
   "execution_count": 7,
   "metadata": {},
   "outputs": [
    {
     "name": "stderr",
     "output_type": "stream",
     "text": [
      "2023-07-16 08:17:43.926414: I tensorflow/core/platform/cpu_feature_guard.cc:193] This TensorFlow binary is optimized with oneAPI Deep Neural Network Library (oneDNN) to use the following CPU instructions in performance-critical operations:  SSE4.1 SSE4.2 AVX AVX2 FMA\n",
      "To enable them in other operations, rebuild TensorFlow with the appropriate compiler flags.\n"
     ]
    }
   ],
   "source": [
    "import tensorflow as tf\n",
    "from tensorflow import keras\n",
    "from keras.utils import image_dataset_from_directory\n",
    "from keras import layers\n",
    "from keras.preprocessing.image import ImageDataGenerator\n",
    "from keras.callbacks import ModelCheckpoint\n",
    "from sklearn.preprocessing import OneHotEncoder\n",
    "from keras.layers import Conv2D, MaxPooling2D, BatchNormalization, Dense, Activation, Flatten, Dropout"
   ]
  },
  {
   "cell_type": "code",
   "execution_count": 8,
   "metadata": {},
   "outputs": [],
   "source": [
    "# normalize the data\n",
    "mean= np.mean(x_train)\n",
    "std= np.std(x_train)\n",
    "\n",
    "x_train_clean= (x_train - mean)/std\n",
    "x_val_clean= (x_val - mean)/std\n",
    "x_test_clean= (x_test - mean)/std\n",
    "\n",
    "# convert labels to one-hot\n",
    "encoder= OneHotEncoder(sparse_output= False, drop= None, handle_unknown= 'ignore')\n",
    "encoder.fit(y_train.reshape(-1, 1))\n",
    "y_train_clean= encoder.transform(y_train.reshape(-1, 1))\n",
    "y_val_clean= encoder.transform(y_val.reshape(-1, 1))\n",
    "y_test_clean= encoder.transform(y_test.reshape(-1, 1))"
   ]
  },
  {
   "cell_type": "code",
   "execution_count": 9,
   "metadata": {},
   "outputs": [
    {
     "data": {
      "text/plain": [
       "<keras.preprocessing.image.ImageDataGenerator at 0x7fc136a5be50>"
      ]
     },
     "execution_count": 9,
     "metadata": {},
     "output_type": "execute_result"
    }
   ],
   "source": [
    "datagen= ImageDataGenerator(\n",
    "    rotation_range= 15, \n",
    "    width_shift_range= 0.1, \n",
    "    height_shift_range= 0.1,\n",
    "    horizontal_flip= True,\n",
    "    vertical_flip= True\n",
    ")\n",
    "datagen.fit(x_train_clean)\n",
    "datagen"
   ]
  },
  {
   "cell_type": "code",
   "execution_count": 10,
   "metadata": {},
   "outputs": [
    {
     "data": {
      "text/plain": [
       "(32, 32, 3)"
      ]
     },
     "execution_count": 10,
     "metadata": {},
     "output_type": "execute_result"
    }
   ],
   "source": [
    "x_train_clean.shape[1:]"
   ]
  },
  {
   "cell_type": "code",
   "execution_count": 11,
   "metadata": {},
   "outputs": [
    {
     "data": {
      "text/plain": [
       "10"
      ]
     },
     "execution_count": 11,
     "metadata": {},
     "output_type": "execute_result"
    }
   ],
   "source": [
    "y_train_clean.shape[-1]"
   ]
  },
  {
   "cell_type": "code",
   "execution_count": 12,
   "metadata": {},
   "outputs": [
    {
     "name": "stderr",
     "output_type": "stream",
     "text": [
      "2023-07-16 08:17:46.530468: I tensorflow/core/platform/cpu_feature_guard.cc:193] This TensorFlow binary is optimized with oneAPI Deep Neural Network Library (oneDNN) to use the following CPU instructions in performance-critical operations:  SSE4.1 SSE4.2 AVX AVX2 FMA\n",
      "To enable them in other operations, rebuild TensorFlow with the appropriate compiler flags.\n",
      "2023-07-16 08:17:46.537650: I tensorflow/core/common_runtime/process_util.cc:146] Creating new thread pool with default inter op setting: 2. Tune using inter_op_parallelism_threads for best performance.\n"
     ]
    },
    {
     "name": "stdout",
     "output_type": "stream",
     "text": [
      "Model: \"sequential\"\n",
      "_________________________________________________________________\n",
      " Layer (type)                Output Shape              Param #   \n",
      "=================================================================\n",
      " conv2d (Conv2D)             (None, 32, 32, 32)        896       \n",
      "                                                                 \n",
      " activation (Activation)     (None, 32, 32, 32)        0         \n",
      "                                                                 \n",
      " batch_normalization (BatchN  (None, 32, 32, 32)       128       \n",
      " ormalization)                                                   \n",
      "                                                                 \n",
      " conv2d_1 (Conv2D)           (None, 32, 32, 32)        9248      \n",
      "                                                                 \n",
      " activation_1 (Activation)   (None, 32, 32, 32)        0         \n",
      "                                                                 \n",
      " batch_normalization_1 (Batc  (None, 32, 32, 32)       128       \n",
      " hNormalization)                                                 \n",
      "                                                                 \n",
      " max_pooling2d (MaxPooling2D  (None, 16, 16, 32)       0         \n",
      " )                                                               \n",
      "                                                                 \n",
      " dropout (Dropout)           (None, 16, 16, 32)        0         \n",
      "                                                                 \n",
      " conv2d_2 (Conv2D)           (None, 16, 16, 64)        18496     \n",
      "                                                                 \n",
      " activation_2 (Activation)   (None, 16, 16, 64)        0         \n",
      "                                                                 \n",
      " batch_normalization_2 (Batc  (None, 16, 16, 64)       256       \n",
      " hNormalization)                                                 \n",
      "                                                                 \n",
      " conv2d_3 (Conv2D)           (None, 16, 16, 64)        36928     \n",
      "                                                                 \n",
      " activation_3 (Activation)   (None, 16, 16, 64)        0         \n",
      "                                                                 \n",
      " batch_normalization_3 (Batc  (None, 16, 16, 64)       256       \n",
      " hNormalization)                                                 \n",
      "                                                                 \n",
      " max_pooling2d_1 (MaxPooling  (None, 8, 8, 64)         0         \n",
      " 2D)                                                             \n",
      "                                                                 \n",
      " dropout_1 (Dropout)         (None, 8, 8, 64)          0         \n",
      "                                                                 \n",
      " conv2d_4 (Conv2D)           (None, 8, 8, 128)         73856     \n",
      "                                                                 \n",
      " activation_4 (Activation)   (None, 8, 8, 128)         0         \n",
      "                                                                 \n",
      " batch_normalization_4 (Batc  (None, 8, 8, 128)        512       \n",
      " hNormalization)                                                 \n",
      "                                                                 \n",
      " conv2d_5 (Conv2D)           (None, 8, 8, 128)         147584    \n",
      "                                                                 \n",
      " activation_5 (Activation)   (None, 8, 8, 128)         0         \n",
      "                                                                 \n",
      " batch_normalization_5 (Batc  (None, 8, 8, 128)        512       \n",
      " hNormalization)                                                 \n",
      "                                                                 \n",
      " max_pooling2d_2 (MaxPooling  (None, 4, 4, 128)        0         \n",
      " 2D)                                                             \n",
      "                                                                 \n",
      " dropout_2 (Dropout)         (None, 4, 4, 128)         0         \n",
      "                                                                 \n",
      " flatten (Flatten)           (None, 2048)              0         \n",
      "                                                                 \n",
      " dense (Dense)               (None, 10)                20490     \n",
      "                                                                 \n",
      "=================================================================\n",
      "Total params: 309,290\n",
      "Trainable params: 308,394\n",
      "Non-trainable params: 896\n",
      "_________________________________________________________________\n"
     ]
    }
   ],
   "source": [
    "base_hidden_unit= 32\n",
    "num_classes= y_train_clean.shape[-1]\n",
    "weight_decay= 1e-4\n",
    "model= keras.Sequential()\n",
    "\n",
    "# conv 1\n",
    "model.add(Conv2D(filters= base_hidden_unit, \n",
    "                 kernel_size= (3, 3),\n",
    "                 padding= 'same', \n",
    "                 kernel_regularizer= keras.regularizers.l2(weight_decay),\n",
    "                 input_shape= x_train_clean.shape[1:]\n",
    "                 ))\n",
    "model.add(Activation('relu'))\n",
    "model.add(BatchNormalization())\n",
    "\n",
    "# conv 2\n",
    "model.add(Conv2D(filters= base_hidden_unit, \n",
    "                 kernel_size= (3, 3),\n",
    "                 padding= 'same', \n",
    "                 kernel_regularizer= keras.regularizers.l2(weight_decay),\n",
    "                 ))\n",
    "model.add(Activation('relu'))\n",
    "model.add(BatchNormalization())\n",
    "\n",
    "# pool + dropout\n",
    "model.add(MaxPooling2D(pool_size= (2, 2)))\n",
    "model.add(Dropout(0.2))\n",
    "\n",
    "# conv 3\n",
    "model.add(Conv2D(filters= base_hidden_unit * 2, \n",
    "                 kernel_size= (3, 3),\n",
    "                 padding= 'same', \n",
    "                 kernel_regularizer= keras.regularizers.l2(weight_decay),\n",
    "                 ))\n",
    "model.add(Activation('relu'))\n",
    "model.add(BatchNormalization())\n",
    "\n",
    "# conv 4\n",
    "model.add(Conv2D(filters= base_hidden_unit *2, \n",
    "                 kernel_size= (3, 3),\n",
    "                 padding= 'same', \n",
    "                 kernel_regularizer= keras.regularizers.l2(weight_decay),\n",
    "                 ))\n",
    "model.add(Activation('relu'))\n",
    "model.add(BatchNormalization())\n",
    "\n",
    "# pool + dropout\n",
    "model.add(MaxPooling2D(pool_size= (2, 2)))\n",
    "model.add(Dropout(0.3))\n",
    "\n",
    "# conv 5\n",
    "model.add(Conv2D(filters= base_hidden_unit * 4, \n",
    "                 kernel_size= (3, 3),\n",
    "                 padding= 'same', \n",
    "                 kernel_regularizer= keras.regularizers.l2(weight_decay),\n",
    "                 ))\n",
    "model.add(Activation('relu'))\n",
    "model.add(BatchNormalization())\n",
    "\n",
    "# conv 6\n",
    "model.add(Conv2D(filters= base_hidden_unit * 4, \n",
    "                 kernel_size= (3, 3),\n",
    "                 padding= 'same', \n",
    "                 kernel_regularizer= keras.regularizers.l2(weight_decay),\n",
    "                 ))\n",
    "model.add(Activation('relu'))\n",
    "model.add(BatchNormalization())\n",
    "\n",
    "# pool + dropout\n",
    "model.add(MaxPooling2D(pool_size= (2, 2)))\n",
    "model.add(Dropout(0.4))\n",
    "\n",
    "# fc\n",
    "model.add(Flatten())\n",
    "model.add(Dense(num_classes, activation= 'softmax'))\n",
    "\n",
    "model.summary()"
   ]
  },
  {
   "cell_type": "code",
   "execution_count": 13,
   "metadata": {},
   "outputs": [
    {
     "name": "stderr",
     "output_type": "stream",
     "text": [
      "WARNING:absl:`lr` is deprecated, please use `learning_rate` instead, or use the legacy optimizer, e.g.,tf.keras.optimizers.legacy.Adam.\n"
     ]
    }
   ],
   "source": [
    "TRAIN= False\n",
    "batch_size= 16\n",
    "epochs= 100\n",
    "model_path= 'output/model.hdf5'\n",
    "\n",
    "checkpoint= ModelCheckpoint(filepath= model_path, save_best_only= True, verbose= 1)\n",
    "optimizer= keras.optimizers.Adam(lr=0.0001,\n",
    "                                 weight_decay= 1e-6)\n",
    "\n",
    "model.compile(loss='categorical_crossentropy', \n",
    "              optimizer= optimizer,\n",
    "              metrics= ['accuracy'])\n",
    "\n",
    "if TRAIN:\n",
    "    history= model.fit_generator(\n",
    "        datagen.flow(x_train_clean, y_train_clean, batch_size= batch_size),\n",
    "        callbacks= checkpoint, \n",
    "        steps_per_epoch= x_train_clean.shape[0] // batch_size, \n",
    "        epochs= epochs,\n",
    "        verbose= 1, \n",
    "        validation_data= (x_val_clean, y_val_clean)\n",
    "        )"
   ]
  },
  {
   "cell_type": "code",
   "execution_count": 16,
   "metadata": {},
   "outputs": [
    {
     "name": "stdout",
     "output_type": "stream",
     "text": [
      "Model: \"sequential_2\"\n",
      "_________________________________________________________________\n",
      " Layer (type)                Output Shape              Param #   \n",
      "=================================================================\n",
      " conv2d_1 (Conv2D)           (None, 32, 32, 32)        896       \n",
      "                                                                 \n",
      " activation (Activation)     (None, 32, 32, 32)        0         \n",
      "                                                                 \n",
      " batch_normalization (BatchN  (None, 32, 32, 32)       128       \n",
      " ormalization)                                                   \n",
      "                                                                 \n",
      " conv2d_2 (Conv2D)           (None, 32, 32, 32)        9248      \n",
      "                                                                 \n",
      " activation_1 (Activation)   (None, 32, 32, 32)        0         \n",
      "                                                                 \n",
      " batch_normalization_1 (Batc  (None, 32, 32, 32)       128       \n",
      " hNormalization)                                                 \n",
      "                                                                 \n",
      " max_pooling2d (MaxPooling2D  (None, 16, 16, 32)       0         \n",
      " )                                                               \n",
      "                                                                 \n",
      " dropout (Dropout)           (None, 16, 16, 32)        0         \n",
      "                                                                 \n",
      " conv2d_3 (Conv2D)           (None, 16, 16, 64)        18496     \n",
      "                                                                 \n",
      " activation_2 (Activation)   (None, 16, 16, 64)        0         \n",
      "                                                                 \n",
      " batch_normalization_2 (Batc  (None, 16, 16, 64)       256       \n",
      " hNormalization)                                                 \n",
      "                                                                 \n",
      " conv2d_4 (Conv2D)           (None, 16, 16, 64)        36928     \n",
      "                                                                 \n",
      " activation_3 (Activation)   (None, 16, 16, 64)        0         \n",
      "                                                                 \n",
      " batch_normalization_3 (Batc  (None, 16, 16, 64)       256       \n",
      " hNormalization)                                                 \n",
      "                                                                 \n",
      " max_pooling2d_1 (MaxPooling  (None, 8, 8, 64)         0         \n",
      " 2D)                                                             \n",
      "                                                                 \n",
      " dropout_1 (Dropout)         (None, 8, 8, 64)          0         \n",
      "                                                                 \n",
      " conv2d_5 (Conv2D)           (None, 8, 8, 128)         73856     \n",
      "                                                                 \n",
      " activation_4 (Activation)   (None, 8, 8, 128)         0         \n",
      "                                                                 \n",
      " batch_normalization_4 (Batc  (None, 8, 8, 128)        512       \n",
      " hNormalization)                                                 \n",
      "                                                                 \n",
      " conv2d_6 (Conv2D)           (None, 8, 8, 128)         147584    \n",
      "                                                                 \n",
      " activation_5 (Activation)   (None, 8, 8, 128)         0         \n",
      "                                                                 \n",
      " batch_normalization_5 (Batc  (None, 8, 8, 128)        512       \n",
      " hNormalization)                                                 \n",
      "                                                                 \n",
      " max_pooling2d_2 (MaxPooling  (None, 4, 4, 128)        0         \n",
      " 2D)                                                             \n",
      "                                                                 \n",
      " dropout_2 (Dropout)         (None, 4, 4, 128)         0         \n",
      "                                                                 \n",
      " flatten (Flatten)           (None, 2048)              0         \n",
      "                                                                 \n",
      " dense (Dense)               (None, 10)                20490     \n",
      "                                                                 \n",
      "=================================================================\n",
      "Total params: 309,290\n",
      "Trainable params: 308,394\n",
      "Non-trainable params: 896\n",
      "_________________________________________________________________\n"
     ]
    }
   ],
   "source": [
    "saved_model= keras.models.load_model(model_path)\n",
    "saved_model.summary()"
   ]
  },
  {
   "cell_type": "code",
   "execution_count": 17,
   "metadata": {},
   "outputs": [
    {
     "name": "stdout",
     "output_type": "stream",
     "text": [
      "16/16 [==============================] - 5s 252ms/step - loss: 1.0534 - accuracy: 0.6870\n",
      "\n",
      "Test result: 68.700 loss: 1.053\n"
     ]
    }
   ],
   "source": [
    "scores = saved_model.evaluate(x_test_clean, \n",
    "                              y_test_clean, \n",
    "                              batch_size=128, \n",
    "                              verbose=1)\n",
    "print('\\nTest result: %.3f loss: %.3f' % (scores[1]*100,scores[0]))"
   ]
  },
  {
   "cell_type": "markdown",
   "metadata": {},
   "source": [
    "# with pytorch"
   ]
  },
  {
   "cell_type": "code",
   "execution_count": 141,
   "metadata": {},
   "outputs": [],
   "source": [
    "import torch\n",
    "import torch.nn as nn\n",
    "from sklearn.model_selection import train_test_split\n",
    "from sklearn.preprocessing import StandardScaler\n",
    "from torch.utils.data import DataLoader, TensorDataset\n",
    "import torch.nn.functional as F\n",
    "\n",
    "import tqdm"
   ]
  },
  {
   "cell_type": "code",
   "execution_count": 21,
   "metadata": {},
   "outputs": [
    {
     "name": "stdout",
     "output_type": "stream",
     "text": [
      "(8000, 32, 32, 3) (8000,)\n",
      "(2000, 32, 32, 3) (2000,)\n",
      "(2000, 32, 32, 3) (2000,)\n"
     ]
    }
   ],
   "source": [
    "print(x_train.shape, y_train.shape)\n",
    "print(x_val.shape, y_val.shape)\n",
    "print(x_test.shape, y_test.shape)"
   ]
  },
  {
   "cell_type": "code",
   "execution_count": 25,
   "metadata": {},
   "outputs": [
    {
     "data": {
      "text/plain": [
       "(8000, 32, 32, 3)"
      ]
     },
     "execution_count": 25,
     "metadata": {},
     "output_type": "execute_result"
    }
   ],
   "source": [
    "x_train.shape"
   ]
  },
  {
   "cell_type": "code",
   "execution_count": 27,
   "metadata": {},
   "outputs": [],
   "source": [
    "#normalize \n",
    "\n",
    "mean= np.mean(x_train)\n",
    "std= np.std(x_train)\n",
    "\n",
    "x_train_clean= (x_train-mean)/std\n",
    "x_val_clean= (x_val-mean)/std\n",
    "x_test_clean= (x_test-mean)/std"
   ]
  },
  {
   "cell_type": "code",
   "execution_count": 49,
   "metadata": {},
   "outputs": [
    {
     "data": {
      "text/plain": [
       "(8000, 3, 32, 32)"
      ]
     },
     "execution_count": 49,
     "metadata": {},
     "output_type": "execute_result"
    }
   ],
   "source": [
    "x_train_clean.reshape(-1, 3, 32, 32).shape"
   ]
  },
  {
   "cell_type": "code",
   "execution_count": 124,
   "metadata": {},
   "outputs": [],
   "source": [
    "# cast to tensor\n",
    "x_train_tensor= torch.Tensor(x_train_clean.reshape(-1, 3, 32, 32))\n",
    "x_val_tensor= torch.Tensor(x_val_clean.reshape(-1, 3, 32, 32))\n",
    "x_test_tensor= torch.Tensor(x_test_clean.reshape(-1, 3, 32, 32))\n",
    "\n",
    "y_train_tensor= torch.Tensor(np.argmax(y_train_clean, axis= 1)).long()\n",
    "y_val_tensor= torch.Tensor(np.argmax(y_val_clean, axis= 1)).long()\n",
    "y_test_tensor= torch.Tensor(np.argmax(y_test_clean, axis= 1)).long()"
   ]
  },
  {
   "cell_type": "code",
   "execution_count": 125,
   "metadata": {},
   "outputs": [
    {
     "data": {
      "text/plain": [
       "torch.Size([8000, 3, 32, 32])"
      ]
     },
     "execution_count": 125,
     "metadata": {},
     "output_type": "execute_result"
    }
   ],
   "source": [
    "x_train_tensor.shape"
   ]
  },
  {
   "cell_type": "code",
   "execution_count": 126,
   "metadata": {},
   "outputs": [],
   "source": [
    "# create dataloader\n",
    "train_ds= TensorDataset(x_train_tensor, y_train_tensor)\n",
    "val_ds= TensorDataset(x_val_tensor, y_val_tensor)\n",
    "\n",
    "batch_size= 8\n",
    "train_dl= DataLoader(train_ds, batch_size= batch_size)\n",
    "val_dl= DataLoader(val_ds, batch_size= batch_size)"
   ]
  },
  {
   "cell_type": "code",
   "execution_count": 135,
   "metadata": {},
   "outputs": [
    {
     "data": {
      "text/plain": [
       "torch.Size([8, 10])"
      ]
     },
     "execution_count": 135,
     "metadata": {},
     "output_type": "execute_result"
    }
   ],
   "source": [
    "# create model \n",
    "\n",
    "class MyCNN(nn.Module):\n",
    "\n",
    "    def __init__(self):\n",
    "        super().__init__()\n",
    "        self.conv1= nn.Conv2d(in_channels= 3, \n",
    "                              out_channels= 32, \n",
    "                              kernel_size= (3, 3),\n",
    "                              padding= 'same',\n",
    "                              )\n",
    "        self.conv2= nn.Conv2d(in_channels= 32, \n",
    "                              out_channels= 32, \n",
    "                              kernel_size= (3, 3),\n",
    "                              padding= 'same',\n",
    "                              )\n",
    "        self.conv3= nn.Conv2d(in_channels= 32, \n",
    "                              out_channels= 64, \n",
    "                              kernel_size= (3, 3),\n",
    "                              padding= 'same',\n",
    "                              )\n",
    "        self.conv4= nn.Conv2d(in_channels= 64, \n",
    "                              out_channels= 64, \n",
    "                              kernel_size= (3, 3),\n",
    "                              padding= 'same',\n",
    "                              )\n",
    "        self.conv5= nn.Conv2d(in_channels= 64, \n",
    "                              out_channels= 128, \n",
    "                              kernel_size= (3, 3),\n",
    "                              padding= 'same',\n",
    "                              )\n",
    "        self.conv6= nn.Conv2d(in_channels= 128, \n",
    "                              out_channels= 128, \n",
    "                              kernel_size= (3, 3),\n",
    "                              padding= 'same',\n",
    "                              )\n",
    "        self.pool= nn.MaxPool2d(kernel_size= (2, 2))\n",
    "        self.batch_norm32= nn.BatchNorm2d(32)\n",
    "        self.batch_norm64= nn.BatchNorm2d(64)\n",
    "        self.batch_norm128= nn.BatchNorm2d(128)\n",
    "        self.dense= nn.Linear(in_features= 2048, \n",
    "                              out_features= 10)\n",
    "\n",
    "    def forward(self, x):\n",
    "        # conv 1\n",
    "        x= self.batch_norm32(F.relu(self.conv1(x)))\n",
    "        # conv 2\n",
    "        x= self.batch_norm32(F.relu(self.conv2(x)))\n",
    "        \n",
    "        # pool & dropout\n",
    "        x= F.dropout2d(self.pool(x), p= 0.2)\n",
    "        \n",
    "        # conv 3\n",
    "        x= self.batch_norm64(F.relu(self.conv3(x)))\n",
    "        # conv 4\n",
    "        x= self.batch_norm64(F.relu(self.conv4(x)))\n",
    "        \n",
    "        # pool & dropout\n",
    "        x= F.dropout2d(self.pool(x), p= 0.3)\n",
    "        \n",
    "        # conv 5\n",
    "        x= self.batch_norm128(F.relu(self.conv5(x)))\n",
    "        # conv 6\n",
    "        x= self.batch_norm128(F.relu(self.conv6(x)))\n",
    "\n",
    "        # pool & dropout\n",
    "        x= F.dropout2d(self.pool(x), p= 0.4)\n",
    "\n",
    "        # fc\n",
    "        x= nn.Flatten()(x)\n",
    "        x= F.softmax(self.dense(x), dim= 0)\n",
    "\n",
    "        return x\n",
    "    \n",
    "model= MyCNN()\n",
    "sample= torch.ones(8, 3, 32, 32)\n",
    "model(sample).shape"
   ]
  },
  {
   "cell_type": "code",
   "execution_count": 149,
   "metadata": {},
   "outputs": [],
   "source": [
    "my_cnn= MyCNN()\n",
    "loss_fn= nn.CrossEntropyLoss()\n",
    "optimizer= torch.optim.Adam(my_cnn.parameters(), lr=0.0001)\n",
    "\n",
    "n_epochs= 100\n",
    "log_print= 1\n",
    "\n",
    "n_train_samples= len(train_ds)\n",
    "n_val_samples= len(val_ds)"
   ]
  },
  {
   "cell_type": "code",
   "execution_count": 150,
   "metadata": {},
   "outputs": [
    {
     "name": "stdout",
     "output_type": "stream",
     "text": [
      "epoch 1 : acc =  0.2167 - val acc =  0.2285 - loss =  0.2759 - val loss =  0.2738\n",
      "epoch 2 : acc =  0.2506 - val acc =  0.2400 - loss =  0.2710 - val loss =  0.2728\n",
      "epoch 3 : acc =  0.2707 - val acc =  0.2725 - loss =  0.2680 - val loss =  0.2696\n",
      "epoch 4 : acc =  0.2893 - val acc =  0.2680 - loss =  0.2667 - val loss =  0.2704\n",
      "epoch 5 : acc =  0.2960 - val acc =  0.2650 - loss =  0.2658 - val loss =  0.2698\n",
      "epoch 6 : acc =  0.3041 - val acc =  0.2835 - loss =  0.2643 - val loss =  0.2682\n",
      "epoch 7 : acc =  0.3021 - val acc =  0.2645 - loss =  0.2638 - val loss =  0.2697\n",
      "epoch 8 : acc =  0.3245 - val acc =  0.2620 - loss =  0.2619 - val loss =  0.2709\n",
      "epoch 9 : acc =  0.3247 - val acc =  0.2565 - loss =  0.2616 - val loss =  0.2707\n",
      "epoch 10 : acc =  0.3355 - val acc =  0.2665 - loss =  0.2606 - val loss =  0.2688\n",
      "epoch 11 : acc =  0.3371 - val acc =  0.2615 - loss =  0.2603 - val loss =  0.2693\n",
      "epoch 12 : acc =  0.3510 - val acc =  0.2920 - loss =  0.2589 - val loss =  0.2681\n",
      "epoch 13 : acc =  0.3556 - val acc =  0.2820 - loss =  0.2584 - val loss =  0.2677\n",
      "epoch 14 : acc =  0.3575 - val acc =  0.2750 - loss =  0.2577 - val loss =  0.2681\n",
      "epoch 15 : acc =  0.3649 - val acc =  0.3070 - loss =  0.2570 - val loss =  0.2667\n",
      "epoch 16 : acc =  0.3724 - val acc =  0.2760 - loss =  0.2562 - val loss =  0.2681\n",
      "epoch 17 : acc =  0.3756 - val acc =  0.2735 - loss =  0.2559 - val loss =  0.2684\n",
      "epoch 18 : acc =  0.3914 - val acc =  0.2845 - loss =  0.2546 - val loss =  0.2674\n",
      "epoch 19 : acc =  0.3917 - val acc =  0.2765 - loss =  0.2538 - val loss =  0.2682\n",
      "epoch 20 : acc =  0.3957 - val acc =  0.2735 - loss =  0.2540 - val loss =  0.2688\n",
      "epoch 21 : acc =  0.4022 - val acc =  0.2925 - loss =  0.2528 - val loss =  0.2673\n",
      "epoch 22 : acc =  0.4101 - val acc =  0.2890 - loss =  0.2524 - val loss =  0.2679\n",
      "epoch 23 : acc =  0.4156 - val acc =  0.2895 - loss =  0.2515 - val loss =  0.2681\n",
      "epoch 24 : acc =  0.4223 - val acc =  0.2695 - loss =  0.2505 - val loss =  0.2690\n",
      "epoch 25 : acc =  0.4221 - val acc =  0.2920 - loss =  0.2506 - val loss =  0.2676\n",
      "epoch 26 : acc =  0.4253 - val acc =  0.2915 - loss =  0.2499 - val loss =  0.2678\n",
      "epoch 27 : acc =  0.4305 - val acc =  0.2815 - loss =  0.2497 - val loss =  0.2668\n",
      "epoch 28 : acc =  0.4417 - val acc =  0.2965 - loss =  0.2486 - val loss =  0.2664\n",
      "epoch 29 : acc =  0.4459 - val acc =  0.3070 - loss =  0.2478 - val loss =  0.2663\n",
      "epoch 30 : acc =  0.4456 - val acc =  0.2940 - loss =  0.2479 - val loss =  0.2675\n",
      "epoch 31 : acc =  0.4515 - val acc =  0.2895 - loss =  0.2473 - val loss =  0.2672\n",
      "epoch 32 : acc =  0.4537 - val acc =  0.3115 - loss =  0.2468 - val loss =  0.2656\n",
      "epoch 33 : acc =  0.4561 - val acc =  0.3085 - loss =  0.2464 - val loss =  0.2656\n",
      "epoch 34 : acc =  0.4672 - val acc =  0.2875 - loss =  0.2457 - val loss =  0.2674\n",
      "epoch 35 : acc =  0.4646 - val acc =  0.2945 - loss =  0.2455 - val loss =  0.2669\n",
      "epoch 36 : acc =  0.4694 - val acc =  0.2930 - loss =  0.2453 - val loss =  0.2678\n",
      "epoch 37 : acc =  0.4724 - val acc =  0.3055 - loss =  0.2448 - val loss =  0.2660\n",
      "epoch 38 : acc =  0.4865 - val acc =  0.2900 - loss =  0.2440 - val loss =  0.2669\n",
      "epoch 39 : acc =  0.4760 - val acc =  0.2925 - loss =  0.2444 - val loss =  0.2663\n",
      "epoch 40 : acc =  0.4828 - val acc =  0.3120 - loss =  0.2438 - val loss =  0.2652\n",
      "epoch 41 : acc =  0.4758 - val acc =  0.3115 - loss =  0.2439 - val loss =  0.2653\n",
      "epoch 42 : acc =  0.4883 - val acc =  0.3070 - loss =  0.2429 - val loss =  0.2662\n",
      "epoch 43 : acc =  0.4968 - val acc =  0.2950 - loss =  0.2420 - val loss =  0.2659\n",
      "epoch 44 : acc =  0.4991 - val acc =  0.2905 - loss =  0.2417 - val loss =  0.2656\n",
      "epoch 45 : acc =  0.5045 - val acc =  0.3005 - loss =  0.2413 - val loss =  0.2661\n",
      "epoch 46 : acc =  0.5028 - val acc =  0.3000 - loss =  0.2414 - val loss =  0.2660\n",
      "epoch 47 : acc =  0.5095 - val acc =  0.3010 - loss =  0.2408 - val loss =  0.2665\n",
      "epoch 48 : acc =  0.5132 - val acc =  0.2855 - loss =  0.2405 - val loss =  0.2657\n",
      "epoch 49 : acc =  0.5051 - val acc =  0.2895 - loss =  0.2403 - val loss =  0.2671\n",
      "epoch 50 : acc =  0.5065 - val acc =  0.2995 - loss =  0.2403 - val loss =  0.2652\n",
      "epoch 51 : acc =  0.5194 - val acc =  0.2915 - loss =  0.2396 - val loss =  0.2663\n",
      "epoch 52 : acc =  0.5204 - val acc =  0.2920 - loss =  0.2394 - val loss =  0.2661\n",
      "epoch 53 : acc =  0.5225 - val acc =  0.2935 - loss =  0.2391 - val loss =  0.2662\n",
      "epoch 54 : acc =  0.5228 - val acc =  0.2865 - loss =  0.2389 - val loss =  0.2672\n",
      "epoch 55 : acc =  0.5195 - val acc =  0.2980 - loss =  0.2391 - val loss =  0.2670\n",
      "epoch 56 : acc =  0.5317 - val acc =  0.2910 - loss =  0.2382 - val loss =  0.2663\n",
      "epoch 57 : acc =  0.5400 - val acc =  0.3015 - loss =  0.2377 - val loss =  0.2655\n",
      "epoch 58 : acc =  0.5414 - val acc =  0.3015 - loss =  0.2374 - val loss =  0.2659\n",
      "epoch 59 : acc =  0.5370 - val acc =  0.2875 - loss =  0.2374 - val loss =  0.2666\n",
      "epoch 60 : acc =  0.5364 - val acc =  0.3175 - loss =  0.2376 - val loss =  0.2642\n",
      "epoch 61 : acc =  0.5423 - val acc =  0.2885 - loss =  0.2372 - val loss =  0.2668\n",
      "epoch 62 : acc =  0.5371 - val acc =  0.2970 - loss =  0.2369 - val loss =  0.2660\n",
      "epoch 63 : acc =  0.5470 - val acc =  0.2985 - loss =  0.2365 - val loss =  0.2660\n",
      "epoch 64 : acc =  0.5539 - val acc =  0.3055 - loss =  0.2361 - val loss =  0.2653\n",
      "epoch 65 : acc =  0.5477 - val acc =  0.3110 - loss =  0.2362 - val loss =  0.2660\n",
      "epoch 66 : acc =  0.5530 - val acc =  0.3060 - loss =  0.2360 - val loss =  0.2647\n",
      "epoch 67 : acc =  0.5441 - val acc =  0.2925 - loss =  0.2363 - val loss =  0.2658\n",
      "epoch 68 : acc =  0.5577 - val acc =  0.3075 - loss =  0.2356 - val loss =  0.2653\n",
      "epoch 69 : acc =  0.5535 - val acc =  0.3040 - loss =  0.2354 - val loss =  0.2634\n",
      "epoch 70 : acc =  0.5623 - val acc =  0.3115 - loss =  0.2348 - val loss =  0.2647\n",
      "epoch 71 : acc =  0.5593 - val acc =  0.3230 - loss =  0.2349 - val loss =  0.2645\n",
      "epoch 72 : acc =  0.5619 - val acc =  0.3115 - loss =  0.2345 - val loss =  0.2649\n",
      "epoch 73 : acc =  0.5604 - val acc =  0.3030 - loss =  0.2349 - val loss =  0.2654\n",
      "epoch 74 : acc =  0.5646 - val acc =  0.3085 - loss =  0.2342 - val loss =  0.2654\n",
      "epoch 75 : acc =  0.5659 - val acc =  0.2975 - loss =  0.2344 - val loss =  0.2659\n",
      "epoch 76 : acc =  0.5691 - val acc =  0.3215 - loss =  0.2343 - val loss =  0.2640\n",
      "epoch 77 : acc =  0.5683 - val acc =  0.3085 - loss =  0.2341 - val loss =  0.2653\n",
      "epoch 78 : acc =  0.5714 - val acc =  0.3115 - loss =  0.2339 - val loss =  0.2648\n",
      "epoch 79 : acc =  0.5725 - val acc =  0.3030 - loss =  0.2334 - val loss =  0.2654\n",
      "epoch 80 : acc =  0.5739 - val acc =  0.3195 - loss =  0.2336 - val loss =  0.2643\n",
      "epoch 81 : acc =  0.5720 - val acc =  0.3190 - loss =  0.2332 - val loss =  0.2646\n",
      "epoch 82 : acc =  0.5686 - val acc =  0.3105 - loss =  0.2336 - val loss =  0.2647\n",
      "epoch 83 : acc =  0.5757 - val acc =  0.2920 - loss =  0.2331 - val loss =  0.2667\n",
      "epoch 84 : acc =  0.5761 - val acc =  0.3055 - loss =  0.2331 - val loss =  0.2655\n",
      "epoch 85 : acc =  0.5795 - val acc =  0.2975 - loss =  0.2328 - val loss =  0.2659\n",
      "epoch 86 : acc =  0.5844 - val acc =  0.3040 - loss =  0.2328 - val loss =  0.2656\n",
      "epoch 87 : acc =  0.5840 - val acc =  0.2965 - loss =  0.2326 - val loss =  0.2663\n",
      "epoch 88 : acc =  0.5825 - val acc =  0.3015 - loss =  0.2326 - val loss =  0.2660\n",
      "epoch 89 : acc =  0.5809 - val acc =  0.3020 - loss =  0.2324 - val loss =  0.2662\n",
      "epoch 90 : acc =  0.5899 - val acc =  0.3025 - loss =  0.2323 - val loss =  0.2651\n",
      "epoch 91 : acc =  0.5884 - val acc =  0.3030 - loss =  0.2322 - val loss =  0.2665\n",
      "epoch 92 : acc =  0.5876 - val acc =  0.2880 - loss =  0.2323 - val loss =  0.2673\n",
      "epoch 93 : acc =  0.5819 - val acc =  0.2930 - loss =  0.2325 - val loss =  0.2670\n",
      "epoch 94 : acc =  0.5927 - val acc =  0.3000 - loss =  0.2317 - val loss =  0.2650\n",
      "epoch 95 : acc =  0.5894 - val acc =  0.2960 - loss =  0.2319 - val loss =  0.2665\n",
      "epoch 96 : acc =  0.5851 - val acc =  0.3140 - loss =  0.2324 - val loss =  0.2645\n",
      "epoch 97 : acc =  0.5879 - val acc =  0.3050 - loss =  0.2319 - val loss =  0.2650\n",
      "epoch 98 : acc =  0.5933 - val acc =  0.3055 - loss =  0.2314 - val loss =  0.2651\n",
      "epoch 99 : acc =  0.5901 - val acc =  0.3065 - loss =  0.2316 - val loss =  0.2644\n",
      "epoch 100 : acc =  0.5933 - val acc =  0.3015 - loss =  0.2313 - val loss =  0.2664\n"
     ]
    }
   ],
   "source": [
    "acc_hist_train= [0] * n_epochs\n",
    "acc_hist_val= [0] * n_epochs\n",
    "\n",
    "loss_hist_train= [0] * n_epochs\n",
    "loss_hist_val= [0] * n_epochs\n",
    "\n",
    "for epoch in range(n_epochs):\n",
    "    \n",
    "    # training\n",
    "    my_cnn.train()\n",
    "    for X_batch, y_batch in train_dl:\n",
    "        \n",
    "        y_pred_proba= my_cnn(X_batch)\n",
    "        y_pred= torch.argmax(y_pred_proba, dim= 1)\n",
    "\n",
    "        loss= loss_fn(y_pred_proba, y_batch)\n",
    "        loss.backward()\n",
    "        optimizer.step()\n",
    "        optimizer.zero_grad()\n",
    "\n",
    "        is_correct= (y_pred == y_batch).float()\n",
    "        n_correct= is_correct.sum()\n",
    "\n",
    "        acc_hist_train[epoch] += n_correct.item()\n",
    "        loss_hist_train[epoch] += loss.detach().item()\n",
    "    \n",
    "    acc_hist_train[epoch] /= n_train_samples\n",
    "    loss_hist_train[epoch] /= n_train_samples\n",
    "\n",
    "    # validation\n",
    "    my_cnn.eval()\n",
    "    with torch.no_grad():\n",
    "        for X_batch, y_batch in val_dl:\n",
    "            \n",
    "            y_pred_proba= my_cnn(X_batch)\n",
    "            y_pred= torch.argmax(y_pred_proba, dim= 1)\n",
    "\n",
    "            loss= loss_fn(y_pred_proba, y_batch)\n",
    "\n",
    "            is_correct= (y_pred == y_batch).float()\n",
    "            n_correct= is_correct.sum()\n",
    "\n",
    "            acc_hist_val[epoch] += n_correct.item()\n",
    "            loss_hist_val[epoch] += loss.detach().item()\n",
    "        \n",
    "        acc_hist_val[epoch] /= n_val_samples\n",
    "        loss_hist_val[epoch] /= n_val_samples\n",
    "\n",
    "    if epoch % log_print == 0:\n",
    "        acc= acc_hist_train[epoch]\n",
    "        loss= loss_hist_train[epoch]\n",
    "        val_acc= acc_hist_val[epoch]\n",
    "        val_loss= loss_hist_val[epoch]\n",
    "\n",
    "        print(f'epoch {epoch + 1} : acc = {acc: .4f} - val acc = {val_acc: .4f} - '\n",
    "        f'loss = {loss: .4f} - val loss = {val_loss: .4f}'\n",
    "        )"
   ]
  }
 ],
 "metadata": {
  "kernelspec": {
   "display_name": "deep-learning",
   "language": "python",
   "name": "python3"
  },
  "language_info": {
   "codemirror_mode": {
    "name": "ipython",
    "version": 3
   },
   "file_extension": ".py",
   "mimetype": "text/x-python",
   "name": "python",
   "nbconvert_exporter": "python",
   "pygments_lexer": "ipython3",
   "version": "3.10.11"
  },
  "orig_nbformat": 4
 },
 "nbformat": 4,
 "nbformat_minor": 2
}
